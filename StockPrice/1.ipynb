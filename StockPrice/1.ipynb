{
 "cells": [
  {
   "cell_type": "code",
   "execution_count": 1,
   "id": "19e517d8",
   "metadata": {},
   "outputs": [],
   "source": [
    "import numpy as np\n",
    "import pandas as pd\n",
    "import matplotlib.pyplot as plt\n",
    "import seaborn as sns\n",
    "from pandas_datareader import data\n",
    "import datetime as dt\n",
    "import pandas_market_calendars as mcal\n",
    "import plotly.express as px\n",
    "from sktime.datasets import load_airline\n",
    "from sktime.forecasting.tbats import TBATS"
   ]
  },
  {
   "cell_type": "code",
   "execution_count": 2,
   "id": "11dfdb7e",
   "metadata": {},
   "outputs": [],
   "source": [
    "import numpy as np\n",
    "import pandas as pd\n",
    "import matplotlib.pyplot as plt\n",
    "import seaborn as sns\n",
    "from pandas_datareader import data\n",
    "import datetime as dt\n",
    "import pandas_market_calendars as mcal\n",
    "import plotly.express as px\n",
    "import requests_cache\n",
    "from pandas_datareader.yahoo.headers import DEFAULT_HEADERS\n",
    "\n",
    "class StockData:\n",
    "    '''\n",
    "    import the data for given stocks\n",
    "    '''\n",
    "    def __init__(self, stocks = [\"^DJI\"], start = \"\", end = \"\", period = None):\n",
    "        self.df = dict()\n",
    "        if (start) and (end) and period:\n",
    "            if period != (pd.Timestamp(end)-pd.Timestamp(start)).days:\n",
    "                raise ValueError(\"Does not meet the condition that end - start = period\")\n",
    "        if not start:\n",
    "            start = pd.Timestamp(end)-pd.Timedelta(days = period)\n",
    "        else:\n",
    "            start = pd.Timestamp(start)\n",
    "\n",
    "        if not end:\n",
    "            end = pd.Timestamp(start)+pd.Timedelta(days = period)\n",
    "        else:\n",
    "            end = pd.Timestamp(end)\n",
    "\n",
    "        self.open_days = StockData.count_open_day(start, end, period)\n",
    "\n",
    "\n",
    "        self.start_ts = StockData.last_open_day(start)\n",
    "        self.end_ts = StockData.next_open_day(end)\n",
    "\n",
    "        expire_after = dt.timedelta(days=3)\n",
    "        session = requests_cache.CachedSession(cache_name='cache', expire_after=expire_after)\n",
    "        session.headers = DEFAULT_HEADERS\n",
    "\n",
    "\n",
    "        \n",
    "        ### check end time is not after today\n",
    "        if end > pd.Timestamp.now():\n",
    "            raise ValueError(\"The end time is after today\")\n",
    "\n",
    "        ### check start is before end\n",
    "        if self.start_ts > self.end_ts:\n",
    "            raise ValueError(\"The start date is after the end date\")\n",
    "        \n",
    "        ### add message when start, end are not market open date\n",
    "        if self.start_ts != start:\n",
    "            print(\"The market is not open on the start date, automatically shifted to the last open date which is %s\" \n",
    "                            %(self.start_ts.strftime(\"%Y-%m-%d\")))\n",
    "        if self.end_ts != end:\n",
    "            print(\"The market is not open on the end date, automatically shifted to the next open date which is %s\" \n",
    "                            %(self.end_ts.strftime(\"%Y-%m-%d\")))\n",
    "        \n",
    "        for name in stocks:\n",
    "            ### check name is a valid stock name\n",
    "            try:\n",
    "                self.df[name] = data.DataReader(name, 'yahoo', self.start_ts, self.end_ts, session = session)\n",
    "            except:\n",
    "                raise ValueError(\"%s is not a valid stock code in the time range (%s, %s)\" \n",
    "                                 %(name, self.start_ts.strftime(\"%Y-%m-%d\"), self.end_ts.strftime(\"%Y-%m-%d\")))\n",
    "            self.df[name][\"close-open\"] = [StockData.diff(x,y)[0] for x,y in zip(self.df[name][\"Open\"], self.df[name][\"Close\"])]\n",
    "            self.df[name][\"high-low\"] = [abs(StockData.diff(x,y)[0]) for x,y in zip(self.df[name][\"High\"], self.df[name][\"Low\"])]\n",
    "        return\n",
    "    \n",
    "    '''\n",
    "    return the last market open day before the give date\n",
    "    '''\n",
    "    def last_open_day(date_ts):\n",
    "        nyse = mcal.get_calendar(\"NYSE\")\n",
    "        start =date_ts - dt.timedelta(days = 20) \n",
    "        market_days = nyse.valid_days(start, date_ts)\n",
    "        \n",
    "        for i in range(20):\n",
    "            temp = date_ts - dt.timedelta(days = i)\n",
    "            if temp.tz_localize(\"UTC\") in market_days:\n",
    "                return temp \n",
    "    '''\n",
    "    return the next market open day after the given date\n",
    "    '''\n",
    "    def next_open_day(date_ts):\n",
    "        nyse = mcal.get_calendar(\"NYSE\")\n",
    "        end =date_ts + dt.timedelta(days = 20) \n",
    "        market_days = nyse.valid_days(date_ts, end)\n",
    "        \n",
    "        for i in range(20):\n",
    "            temp = date_ts + dt.timedelta(days = i)\n",
    "            if temp.tz_localize(\"UTC\") in market_days:\n",
    "                return temp \n",
    "    \n",
    "    '''\n",
    "    return the count of open days in date_range\n",
    "    '''\n",
    "    def count_open_day(start , end , period = None):\n",
    "        ### add test for three parameters, al least two should be not emply. If all parameters are given\n",
    "        ### they should match\n",
    "        start_ts = start if start else end - dt.timedelta(days = period-1)\n",
    "        end_ts = end if end else start + dt.timedelta(days = period-1)\n",
    "        \n",
    "        nyse = mcal.get_calendar(\"NYSE\")\n",
    "        return len(nyse.valid_days(start_ts, end_ts))\n",
    "        \n",
    "        \n",
    "    \n",
    "    '''\n",
    "    compute the inflation, return a string of percentage\n",
    "    '''\n",
    "    def diff(a,b):\n",
    "        result = round((b-a)/a, 4)\n",
    "        return result, str(round(result*100, 2))+\"%\"\n",
    "    \n",
    "    \n",
    "    \n",
    "    '''\n",
    "    get the inflation from start to end\n",
    "    '''\n",
    "    def total_inflation(self, stock = [], start = \"\", end = \"\", method = \"close-open\"):\n",
    "        if not stock:\n",
    "            stock = list(self.df.keys())\n",
    "        \n",
    "        start_ts = StockData.last_open_day(start) if start else self.start_ts\n",
    "        end_ts = StockData.last_open_day(end) if end else self.end_ts\n",
    "        \n",
    "        inflation = dict()\n",
    "        if method == \"close-open\":\n",
    "            for name in stock:\n",
    "                inflation[name] = StockData.diff(self.df[name].loc[start_ts][\"Close\"], self.df[name].loc[end_ts][\"Open\"])[1]\n",
    "        else:\n",
    "            for name in stock:\n",
    "                inflation[name] = StockData.diff(self.df[name].loc[start_ts][\"High\"], self.df[name].loc[end_ts][\"Low\"])[1]\n",
    "        \n",
    "        return pd.DataFrame(data = inflation, index = [\"inflation\"])\n",
    "    \n",
    "    \n",
    "    \n",
    "    '''\n",
    "    get the inflation for every day\n",
    "    '''\n",
    "    def inflation(self, stock = [], start = \"\", end = \"\", method = \"close-open\", in_function = False):\n",
    "        if not stock:\n",
    "            stock = list(self.df.keys())\n",
    "        \n",
    "        start_ts = StockData.last_open_day(start) if start else self.start_ts\n",
    "        end_ts = StockData.last_open_day(end) if end else self.end_ts\n",
    "        date_range = pd.date_range(start_ts, end_ts)\n",
    "        \n",
    "        result = pd.DataFrame()\n",
    "        for name in stock:\n",
    "            result[name] = self.df[name].loc[self.df[name].index.isin(date_range), :][method]\n",
    "        \n",
    "        max_inc_date = result.idxmax()\n",
    "        max_dec_date = result.idxmin()\n",
    "        \n",
    "        if not in_function:\n",
    "            for name in stock:\n",
    "                print(\"The average for %s is: %s \\n\" %(name, str(round(np.mean(result[name])*100, 2))+\"%\"))\n",
    "                print(\"The max increase/min decrease of %s occured on %s, which is %s \\n \" \n",
    "                  %(name, max_inc_date[name].strftime(\"%Y-%m-%d\"), str(round(result[name].max()*100, 2))+\"%\"))\n",
    "                print(\"The max decrease/min increase of %s occured on %s, which is %s \\n\" \n",
    "                  %(name, max_dec_date[name].strftime(\"%Y-%m-%d\"), str(round(result[name].min()*100, 2))+\"%\"))\n",
    "            \n",
    "        return result\n",
    "    \n",
    "    \n",
    "    '''\n",
    "    plot the daily inflation\n",
    "    '''\n",
    "    def inflation_plot(self, stock = [], start = \"\", end = \"\", method = \"close-open\"):\n",
    "        df_inflation = self.inflation(stock, start, end, method, in_function = True)\n",
    "        sns.set()\n",
    "        plt.figure(figsize = (10, 8))\n",
    "        \n",
    "        plt.subplot(1,2,1)\n",
    "        df_inflation.plot.box()\n",
    "        plt.title(\"Box Plot for Inflation\")\n",
    "        \n",
    "        plt.subplot(1,2,2)\n",
    "        df_inflation.plot()\n",
    "        plt.legend()\n",
    "        plt.title(\"Plot for the Inflation\")\n",
    "        plt.show()\n",
    "        \n",
    "         \n",
    "\n",
    "    '''\n",
    "    plot the daily price data\n",
    "    '''\n",
    "    def price_plot(self, stock = [], start = \"\", end = \"\", method = [\"Open\", \"Close\", \"High\", \"Low\"]):\n",
    "        if not stock:\n",
    "            stock = list(self.df.keys())\n",
    "        \n",
    "        ### add message when stock is more than 10\n",
    "        \n",
    "        start_ts = StockData.last_open_day(start) if start else self.start_ts\n",
    "        end_ts = StockData.last_open_day(end) if end else self.end_ts\n",
    "        \n",
    "        date_range = pd.date_range(start = start_ts, end = end_ts)\n",
    "        \n",
    "        sns.set()\n",
    "        plt.figure(figsize = (15, 45))\n",
    "        \n",
    "        for idx, name in enumerate(stock):\n",
    "            plt.subplot(5, 1, idx+1)\n",
    "            df_temp = self.df[name].loc[self.df[name].index.isin(date_range), :]\n",
    "            for col in method:\n",
    "                df_temp[col].plot()\n",
    "            plt.legend()\n",
    "            plt.title(name)\n",
    "        plt.show()\n",
    "\n",
    "\n"
   ]
  },
  {
   "cell_type": "code",
   "execution_count": 3,
   "id": "e23498a8",
   "metadata": {},
   "outputs": [
    {
     "name": "stdout",
     "output_type": "stream",
     "text": [
      "The market is not open on the start date, automatically shifted to the last open date which is 2009-12-31\n",
      "The market is not open on the end date, automatically shifted to the next open date which is 2022-01-03\n"
     ]
    }
   ],
   "source": [
    "data = StockData([\"Meta\"], start = \"2010-01-01\", end = \"2022-01-01\")"
   ]
  },
  {
   "cell_type": "code",
   "execution_count": 7,
   "id": "20cb21b1",
   "metadata": {},
   "outputs": [
    {
     "data": {
      "image/png": "[encoded data removed]",
      "text/plain": [
       "<Figure size 1500x4500 with 1 Axes>"
      ]
     },
     "metadata": {},
     "output_type": "display_data"
    }
   ],
   "source": [
    "data.price_plot()"
   ]
  },
  {
   "cell_type": "code",
   "execution_count": 5,
   "id": "10a0fe4c",
   "metadata": {},
   "outputs": [],
   "source": [
    "from src.StockPrice_visualize import StockData"
   ]
  },
  {
   "cell_type": "code",
   "execution_count": 76,
   "id": "a363201d",
   "metadata": {},
   "outputs": [
    {
     "data": {
      "text/html": [
       "<div>\n",
       "<style scoped>\n",
       "    .dataframe tbody tr th:only-of-type {\n",
       "        vertical-align: middle;\n",
       "    }\n",
       "\n",
       "    .dataframe tbody tr th {\n",
       "        vertical-align: top;\n",
       "    }\n",
       "\n",
       "    .dataframe thead th {\n",
       "        text-align: right;\n",
       "    }\n",
       "</style>\n",
       "<table border=\"1\" class=\"dataframe\">\n",
       "  <thead>\n",
       "    <tr style=\"text-align: right;\">\n",
       "      <th></th>\n",
       "      <th>High</th>\n",
       "      <th>Low</th>\n",
       "      <th>Open</th>\n",
       "      <th>Close</th>\n",
       "      <th>Volume</th>\n",
       "      <th>Adj Close</th>\n",
       "    </tr>\n",
       "    <tr>\n",
       "      <th>Date</th>\n",
       "      <th></th>\n",
       "      <th></th>\n",
       "      <th></th>\n",
       "      <th></th>\n",
       "      <th></th>\n",
       "      <th></th>\n",
       "    </tr>\n",
       "  </thead>\n",
       "  <tbody>\n",
       "    <tr>\n",
       "      <th>2022-08-29</th>\n",
       "      <td>267.399994</td>\n",
       "      <td>263.850006</td>\n",
       "      <td>265.850006</td>\n",
       "      <td>265.230011</td>\n",
       "      <td>20338500.0</td>\n",
       "      <td>264.484650</td>\n",
       "    </tr>\n",
       "    <tr>\n",
       "      <th>2022-08-30</th>\n",
       "      <td>267.049988</td>\n",
       "      <td>260.660004</td>\n",
       "      <td>266.670013</td>\n",
       "      <td>262.970001</td>\n",
       "      <td>22767100.0</td>\n",
       "      <td>262.230988</td>\n",
       "    </tr>\n",
       "    <tr>\n",
       "      <th>2022-08-31</th>\n",
       "      <td>267.109985</td>\n",
       "      <td>261.329987</td>\n",
       "      <td>265.390015</td>\n",
       "      <td>261.470001</td>\n",
       "      <td>24791800.0</td>\n",
       "      <td>260.735199</td>\n",
       "    </tr>\n",
       "    <tr>\n",
       "      <th>2022-09-01</th>\n",
       "      <td>260.890015</td>\n",
       "      <td>255.410004</td>\n",
       "      <td>258.869995</td>\n",
       "      <td>260.399994</td>\n",
       "      <td>23263400.0</td>\n",
       "      <td>259.668213</td>\n",
       "    </tr>\n",
       "    <tr>\n",
       "      <th>2022-09-02</th>\n",
       "      <td>264.739990</td>\n",
       "      <td>254.470001</td>\n",
       "      <td>261.700012</td>\n",
       "      <td>256.059998</td>\n",
       "      <td>22855400.0</td>\n",
       "      <td>255.340408</td>\n",
       "    </tr>\n",
       "    <tr>\n",
       "      <th>2022-09-06</th>\n",
       "      <td>257.829987</td>\n",
       "      <td>251.940002</td>\n",
       "      <td>256.200012</td>\n",
       "      <td>253.250000</td>\n",
       "      <td>21328200.0</td>\n",
       "      <td>252.538300</td>\n",
       "    </tr>\n",
       "    <tr>\n",
       "      <th>2022-09-07</th>\n",
       "      <td>258.829987</td>\n",
       "      <td>253.220001</td>\n",
       "      <td>254.699997</td>\n",
       "      <td>258.089996</td>\n",
       "      <td>24126700.0</td>\n",
       "      <td>257.364716</td>\n",
       "    </tr>\n",
       "    <tr>\n",
       "      <th>2022-09-08</th>\n",
       "      <td>260.429993</td>\n",
       "      <td>254.789993</td>\n",
       "      <td>257.510010</td>\n",
       "      <td>258.519989</td>\n",
       "      <td>20319900.0</td>\n",
       "      <td>257.793488</td>\n",
       "    </tr>\n",
       "    <tr>\n",
       "      <th>2022-09-09</th>\n",
       "      <td>265.230011</td>\n",
       "      <td>260.290009</td>\n",
       "      <td>260.500000</td>\n",
       "      <td>264.459991</td>\n",
       "      <td>22084700.0</td>\n",
       "      <td>263.716797</td>\n",
       "    </tr>\n",
       "    <tr>\n",
       "      <th>2022-09-12</th>\n",
       "      <td>267.450012</td>\n",
       "      <td>265.160004</td>\n",
       "      <td>265.779999</td>\n",
       "      <td>266.649994</td>\n",
       "      <td>18747700.0</td>\n",
       "      <td>265.900635</td>\n",
       "    </tr>\n",
       "    <tr>\n",
       "      <th>2022-09-13</th>\n",
       "      <td>260.399994</td>\n",
       "      <td>251.589996</td>\n",
       "      <td>258.839996</td>\n",
       "      <td>251.990005</td>\n",
       "      <td>33353300.0</td>\n",
       "      <td>251.281860</td>\n",
       "    </tr>\n",
       "    <tr>\n",
       "      <th>2022-09-14</th>\n",
       "      <td>254.229996</td>\n",
       "      <td>249.860001</td>\n",
       "      <td>253.529999</td>\n",
       "      <td>252.220001</td>\n",
       "      <td>23913000.0</td>\n",
       "      <td>251.511200</td>\n",
       "    </tr>\n",
       "    <tr>\n",
       "      <th>2022-09-15</th>\n",
       "      <td>251.399994</td>\n",
       "      <td>244.020004</td>\n",
       "      <td>249.770004</td>\n",
       "      <td>245.380005</td>\n",
       "      <td>31530900.0</td>\n",
       "      <td>244.690430</td>\n",
       "    </tr>\n",
       "    <tr>\n",
       "      <th>2022-09-16</th>\n",
       "      <td>245.300003</td>\n",
       "      <td>242.059998</td>\n",
       "      <td>244.259995</td>\n",
       "      <td>244.740005</td>\n",
       "      <td>39791800.0</td>\n",
       "      <td>244.052231</td>\n",
       "    </tr>\n",
       "    <tr>\n",
       "      <th>2022-09-19</th>\n",
       "      <td>245.139999</td>\n",
       "      <td>240.850006</td>\n",
       "      <td>242.470001</td>\n",
       "      <td>244.520004</td>\n",
       "      <td>26826900.0</td>\n",
       "      <td>243.832840</td>\n",
       "    </tr>\n",
       "    <tr>\n",
       "      <th>2022-09-20</th>\n",
       "      <td>243.509995</td>\n",
       "      <td>239.639999</td>\n",
       "      <td>242.070007</td>\n",
       "      <td>242.449997</td>\n",
       "      <td>26660300.0</td>\n",
       "      <td>241.768661</td>\n",
       "    </tr>\n",
       "    <tr>\n",
       "      <th>2022-09-21</th>\n",
       "      <td>247.660004</td>\n",
       "      <td>238.899994</td>\n",
       "      <td>244.270004</td>\n",
       "      <td>238.949997</td>\n",
       "      <td>28625600.0</td>\n",
       "      <td>238.278488</td>\n",
       "    </tr>\n",
       "    <tr>\n",
       "      <th>2022-09-22</th>\n",
       "      <td>243.860001</td>\n",
       "      <td>237.570007</td>\n",
       "      <td>237.869995</td>\n",
       "      <td>240.979996</td>\n",
       "      <td>31061200.0</td>\n",
       "      <td>240.302780</td>\n",
       "    </tr>\n",
       "    <tr>\n",
       "      <th>2022-09-23</th>\n",
       "      <td>241.130005</td>\n",
       "      <td>235.199997</td>\n",
       "      <td>239.539993</td>\n",
       "      <td>237.919998</td>\n",
       "      <td>34176000.0</td>\n",
       "      <td>237.251389</td>\n",
       "    </tr>\n",
       "    <tr>\n",
       "      <th>2022-09-26</th>\n",
       "      <td>241.449997</td>\n",
       "      <td>236.899994</td>\n",
       "      <td>237.050003</td>\n",
       "      <td>237.449997</td>\n",
       "      <td>27694200.0</td>\n",
       "      <td>236.782700</td>\n",
       "    </tr>\n",
       "    <tr>\n",
       "      <th>2022-09-27</th>\n",
       "      <td>241.800003</td>\n",
       "      <td>234.500000</td>\n",
       "      <td>239.979996</td>\n",
       "      <td>236.410004</td>\n",
       "      <td>27018700.0</td>\n",
       "      <td>235.745636</td>\n",
       "    </tr>\n",
       "    <tr>\n",
       "      <th>2022-09-28</th>\n",
       "      <td>242.330002</td>\n",
       "      <td>234.729996</td>\n",
       "      <td>236.809998</td>\n",
       "      <td>241.070007</td>\n",
       "      <td>29029700.0</td>\n",
       "      <td>240.392548</td>\n",
       "    </tr>\n",
       "    <tr>\n",
       "      <th>2022-09-29</th>\n",
       "      <td>239.949997</td>\n",
       "      <td>234.410004</td>\n",
       "      <td>238.889999</td>\n",
       "      <td>237.500000</td>\n",
       "      <td>27484200.0</td>\n",
       "      <td>236.832565</td>\n",
       "    </tr>\n",
       "    <tr>\n",
       "      <th>2022-09-30</th>\n",
       "      <td>240.539993</td>\n",
       "      <td>232.729996</td>\n",
       "      <td>238.289993</td>\n",
       "      <td>232.899994</td>\n",
       "      <td>35694800.0</td>\n",
       "      <td>232.245483</td>\n",
       "    </tr>\n",
       "    <tr>\n",
       "      <th>2022-10-03</th>\n",
       "      <td>241.610001</td>\n",
       "      <td>234.660004</td>\n",
       "      <td>235.410004</td>\n",
       "      <td>240.740005</td>\n",
       "      <td>28880400.0</td>\n",
       "      <td>240.063461</td>\n",
       "    </tr>\n",
       "    <tr>\n",
       "      <th>2022-10-04</th>\n",
       "      <td>250.360001</td>\n",
       "      <td>244.979996</td>\n",
       "      <td>245.089996</td>\n",
       "      <td>248.880005</td>\n",
       "      <td>34888400.0</td>\n",
       "      <td>248.180588</td>\n",
       "    </tr>\n",
       "    <tr>\n",
       "      <th>2022-10-05</th>\n",
       "      <td>250.580002</td>\n",
       "      <td>244.100006</td>\n",
       "      <td>245.990005</td>\n",
       "      <td>249.199997</td>\n",
       "      <td>20347100.0</td>\n",
       "      <td>248.499680</td>\n",
       "    </tr>\n",
       "    <tr>\n",
       "      <th>2022-10-06</th>\n",
       "      <td>250.339996</td>\n",
       "      <td>246.080002</td>\n",
       "      <td>247.929993</td>\n",
       "      <td>246.789993</td>\n",
       "      <td>20239900.0</td>\n",
       "      <td>246.096451</td>\n",
       "    </tr>\n",
       "    <tr>\n",
       "      <th>2022-10-07</th>\n",
       "      <td>241.320007</td>\n",
       "      <td>233.169998</td>\n",
       "      <td>240.899994</td>\n",
       "      <td>234.240005</td>\n",
       "      <td>37769600.0</td>\n",
       "      <td>233.581741</td>\n",
       "    </tr>\n",
       "    <tr>\n",
       "      <th>2022-10-10</th>\n",
       "      <td>234.559998</td>\n",
       "      <td>226.729996</td>\n",
       "      <td>233.050003</td>\n",
       "      <td>229.250000</td>\n",
       "      <td>29743600.0</td>\n",
       "      <td>228.605759</td>\n",
       "    </tr>\n",
       "  </tbody>\n",
       "</table>\n",
       "</div>"
      ],
      "text/plain": [
       "                  High         Low        Open       Close      Volume  \\\n",
       "Date                                                                     \n",
       "2022-08-29  267.399994  263.850006  265.850006  265.230011  20338500.0   \n",
       "2022-08-30  267.049988  260.660004  266.670013  262.970001  22767100.0   \n",
       "2022-08-31  267.109985  261.329987  265.390015  261.470001  24791800.0   \n",
       "2022-09-01  260.890015  255.410004  258.869995  260.399994  23263400.0   \n",
       "2022-09-02  264.739990  254.470001  261.700012  256.059998  22855400.0   \n",
       "2022-09-06  257.829987  251.940002  256.200012  253.250000  21328200.0   \n",
       "2022-09-07  258.829987  253.220001  254.699997  258.089996  24126700.0   \n",
       "2022-09-08  260.429993  254.789993  257.510010  258.519989  20319900.0   \n",
       "2022-09-09  265.230011  260.290009  260.500000  264.459991  22084700.0   \n",
       "2022-09-12  267.450012  265.160004  265.779999  266.649994  18747700.0   \n",
       "2022-09-13  260.399994  251.589996  258.839996  251.990005  33353300.0   \n",
       "2022-09-14  254.229996  249.860001  253.529999  252.220001  23913000.0   \n",
       "2022-09-15  251.399994  244.020004  249.770004  245.380005  31530900.0   \n",
       "2022-09-16  245.300003  242.059998  244.259995  244.740005  39791800.0   \n",
       "2022-09-19  245.139999  240.850006  242.470001  244.520004  26826900.0   \n",
       "2022-09-20  243.509995  239.639999  242.070007  242.449997  26660300.0   \n",
       "2022-09-21  247.660004  238.899994  244.270004  238.949997  28625600.0   \n",
       "2022-09-22  243.860001  237.570007  237.869995  240.979996  31061200.0   \n",
       "2022-09-23  241.130005  235.199997  239.539993  237.919998  34176000.0   \n",
       "2022-09-26  241.449997  236.899994  237.050003  237.449997  27694200.0   \n",
       "2022-09-27  241.800003  234.500000  239.979996  236.410004  27018700.0   \n",
       "2022-09-28  242.330002  234.729996  236.809998  241.070007  29029700.0   \n",
       "2022-09-29  239.949997  234.410004  238.889999  237.500000  27484200.0   \n",
       "2022-09-30  240.539993  232.729996  238.289993  232.899994  35694800.0   \n",
       "2022-10-03  241.610001  234.660004  235.410004  240.740005  28880400.0   \n",
       "2022-10-04  250.360001  244.979996  245.089996  248.880005  34888400.0   \n",
       "2022-10-05  250.580002  244.100006  245.990005  249.199997  20347100.0   \n",
       "2022-10-06  250.339996  246.080002  247.929993  246.789993  20239900.0   \n",
       "2022-10-07  241.320007  233.169998  240.899994  234.240005  37769600.0   \n",
       "2022-10-10  234.559998  226.729996  233.050003  229.250000  29743600.0   \n",
       "\n",
       "             Adj Close  \n",
       "Date                    \n",
       "2022-08-29  264.484650  \n",
       "2022-08-30  262.230988  \n",
       "2022-08-31  260.735199  \n",
       "2022-09-01  259.668213  \n",
       "2022-09-02  255.340408  \n",
       "2022-09-06  252.538300  \n",
       "2022-09-07  257.364716  \n",
       "2022-09-08  257.793488  \n",
       "2022-09-09  263.716797  \n",
       "2022-09-12  265.900635  \n",
       "2022-09-13  251.281860  \n",
       "2022-09-14  251.511200  \n",
       "2022-09-15  244.690430  \n",
       "2022-09-16  244.052231  \n",
       "2022-09-19  243.832840  \n",
       "2022-09-20  241.768661  \n",
       "2022-09-21  238.278488  \n",
       "2022-09-22  240.302780  \n",
       "2022-09-23  237.251389  \n",
       "2022-09-26  236.782700  \n",
       "2022-09-27  235.745636  \n",
       "2022-09-28  240.392548  \n",
       "2022-09-29  236.832565  \n",
       "2022-09-30  232.245483  \n",
       "2022-10-03  240.063461  \n",
       "2022-10-04  248.180588  \n",
       "2022-10-05  248.499680  \n",
       "2022-10-06  246.096451  \n",
       "2022-10-07  233.581741  \n",
       "2022-10-10  228.605759  "
      ]
     },
     "execution_count": 76,
     "metadata": {},
     "output_type": "execute_result"
    }
   ],
   "source": [
    "data[-30:]"
   ]
  },
  {
   "cell_type": "code",
   "execution_count": 2,
   "id": "fe00566c",
   "metadata": {},
   "outputs": [],
   "source": [
    "start_ts = pd.Timestamp(\"2022-01-01\")\n",
    "end_ts = pd.Timestamp(\"2022-10-10\")\n",
    "data = data.DataReader(\"MSFT\", 'yahoo', start_ts, end_ts)"
   ]
  },
  {
   "cell_type": "code",
   "execution_count": 6,
   "id": "0080b413",
   "metadata": {},
   "outputs": [],
   "source": [
    "y = data[\"Open\"][:-30]"
   ]
  },
  {
   "cell_type": "code",
   "execution_count": 80,
   "id": "5268f0a5",
   "metadata": {},
   "outputs": [
    {
     "data": {
      "text/plain": [
       "TBATS(sp=5, use_box_cox=True, use_trend=True)"
      ]
     },
     "execution_count": 80,
     "metadata": {},
     "output_type": "execute_result"
    }
   ],
   "source": [
    "train = y.reset_index()[\"Open\"]\n",
    "days = y.reset_index()[\"Date\"]\n",
    "\n",
    "forecaster = TBATS(use_box_cox=True, use_trend=True, sp=5, use_arma_errors=True)\n",
    "forecaster.fit(train)"
   ]
  },
  {
   "cell_type": "code",
   "execution_count": 31,
   "id": "60600b97",
   "metadata": {},
   "outputs": [
    {
     "data": {
      "text/plain": [
       "163"
      ]
     },
     "execution_count": 31,
     "metadata": {},
     "output_type": "execute_result"
    }
   ],
   "source": [
    "train.index[-1]"
   ]
  },
  {
   "cell_type": "code",
   "execution_count": 79,
   "id": "de2498ea",
   "metadata": {},
   "outputs": [],
   "source": [
    "start_day = days.iloc[-1]"
   ]
  },
  {
   "cell_type": "code",
   "execution_count": 78,
   "id": "5cd87433",
   "metadata": {},
   "outputs": [],
   "source": [
    "pred = pd.Series(dtype = float)"
   ]
  },
  {
   "cell_type": "code",
   "execution_count": 66,
   "id": "986c0974",
   "metadata": {},
   "outputs": [],
   "source": [
    "predicted = forecaster.predict(fh = [1])\n",
    "index_pred, val_pred = predicted.index[0], predicted.iloc[0]"
   ]
  },
  {
   "cell_type": "code",
   "execution_count": 77,
   "id": "94fb8c03",
   "metadata": {},
   "outputs": [
    {
     "data": {
      "text/plain": [
       "265.8500061035156"
      ]
     },
     "execution_count": 77,
     "metadata": {},
     "output_type": "execute_result"
    }
   ],
   "source": [
    "val_real = data.loc[start_day][\"Open\"]\n",
    "val_real"
   ]
  },
  {
   "cell_type": "code",
   "execution_count": 81,
   "id": "84262698",
   "metadata": {},
   "outputs": [
    {
     "name": "stdout",
     "output_type": "stream",
     "text": [
      "265.8500061035156 278.74322471676476\n",
      "266.6700134277344 267.1436758361029\n",
      "265.3900146484375 266.84782272887793\n",
      "258.8699951171875 266.3793559760238\n",
      "261.70001220703125 259.8298684761175\n",
      "256.20001220703125 262.55409142190763\n",
      "254.6999969482422 257.02636380764073\n",
      "257.510009765625 255.8146209821594\n",
      "260.5 257.31548700054617\n",
      "265.7799987792969 260.9252591369134\n",
      "258.8399963378906 265.3505826866079\n",
      "253.52999877929688 259.9732591391238\n",
      "249.77000427246094 254.32365583507254\n",
      "244.25999450683594 251.58458421997872\n",
      "242.47000122070312 245.23227768057464\n",
      "242.07000732421875 244.5377449856058\n",
      "244.27000427246094 241.54882604026204\n",
      "237.8699951171875 245.22424201626916\n",
      "239.5399932861328 238.94557449354554\n",
      "237.0500030517578 240.4387585529522\n",
      "239.97999572753906 237.93845917291966\n",
      "236.80999755859375 240.6037485206501\n",
      "238.88999938964844 238.40448461637368\n",
      "238.2899932861328 239.8719026604608\n",
      "235.41000366210938 239.0594419233071\n",
      "245.08999633789062 236.16811632553552\n",
      "245.99000549316406 244.6827137936544\n",
      "247.92999267578125 246.29015111694625\n",
      "240.89999389648438 247.87069729916863\n",
      "233.0500030517578 241.83915642193168\n"
     ]
    }
   ],
   "source": [
    "for _ in range(30):\n",
    "    start_day = StockData.next_open_day(start_day+pd.Timedelta(days = 1))\n",
    "    predicted = forecaster.predict(fh = [1])\n",
    "    index_pred, val_pred = predicted.index[0], predicted.iloc[0]\n",
    "    pred = pd.concat([pred, pd.Series(data = [val_pred], index = [start_day])])   \n",
    "    val_real = data.loc[start_day][\"Open\"]\n",
    "    forecaster.update(y = pd.Series(data = [val_real], index = [index_pred]))\n",
    "    print(val_real, val_pred)"
   ]
  },
  {
   "cell_type": "code",
   "execution_count": 87,
   "id": "f9388173",
   "metadata": {},
   "outputs": [],
   "source": [
    "pred_total = pd.concat([y, pred])\n",
    "data[\"pred\"] = pred_total.values"
   ]
  },
  {
   "cell_type": "code",
   "execution_count": 92,
   "id": "5238505c",
   "metadata": {},
   "outputs": [
    {
     "data": {
      "image/png": "[encoded data removed]",
      "text/plain": [
       "<Figure size 640x480 with 1 Axes>"
      ]
     },
     "metadata": {},
     "output_type": "display_data"
    }
   ],
   "source": [
    "sns.set()\n",
    "data.loc[:,[\"Open\", \"pred\"]].plot()\n",
    "plt.savefig(\"test.png\")\n",
    "plt.show()"
   ]
  },
  {
   "cell_type": "code",
   "execution_count": 94,
   "id": "dac1288b",
   "metadata": {},
   "outputs": [
    {
     "data": {
      "text/plain": [
       "<AxesSubplot:xlabel='Date'>"
      ]
     },
     "execution_count": 94,
     "metadata": {},
     "output_type": "execute_result"
    },
    {
     "data": {
      "image/png": "[encoded data removed]",
      "text/plain": [
       "<Figure size 640x480 with 1 Axes>"
      ]
     },
     "metadata": {},
     "output_type": "display_data"
    }
   ],
   "source": [
    "data[\"Open\"].plot()"
   ]
  },
  {
   "cell_type": "code",
   "execution_count": null,
   "id": "5d967695",
   "metadata": {},
   "outputs": [],
   "source": []
  },
  {
   "cell_type": "code",
   "execution_count": null,
   "id": "c2b6051a",
   "metadata": {},
   "outputs": [],
   "source": []
  },
  {
   "cell_type": "code",
   "execution_count": null,
   "id": "5649be2a",
   "metadata": {},
   "outputs": [],
   "source": []
  },
  {
   "cell_type": "code",
   "execution_count": null,
   "id": "2009c43a",
   "metadata": {},
   "outputs": [],
   "source": []
  },
  {
   "cell_type": "code",
   "execution_count": null,
   "id": "c08fecc4",
   "metadata": {},
   "outputs": [],
   "source": []
  },
  {
   "cell_type": "code",
   "execution_count": null,
   "id": "a6a70f84",
   "metadata": {},
   "outputs": [],
   "source": []
  },
  {
   "cell_type": "code",
   "execution_count": null,
   "id": "03ccfd23",
   "metadata": {},
   "outputs": [],
   "source": []
  },
  {
   "cell_type": "code",
   "execution_count": null,
   "id": "1cb0376e",
   "metadata": {},
   "outputs": [],
   "source": []
  },
  {
   "cell_type": "code",
   "execution_count": null,
   "id": "615516e9",
   "metadata": {},
   "outputs": [],
   "source": []
  },
  {
   "cell_type": "code",
   "execution_count": 36,
   "id": "2cbe38cc",
   "metadata": {},
   "outputs": [
    {
     "data": {
      "text/html": [
       "<div>\n",
       "<style scoped>\n",
       "    .dataframe tbody tr th:only-of-type {\n",
       "        vertical-align: middle;\n",
       "    }\n",
       "\n",
       "    .dataframe tbody tr th {\n",
       "        vertical-align: top;\n",
       "    }\n",
       "\n",
       "    .dataframe thead th {\n",
       "        text-align: right;\n",
       "    }\n",
       "</style>\n",
       "<table border=\"1\" class=\"dataframe\">\n",
       "  <thead>\n",
       "    <tr style=\"text-align: right;\">\n",
       "      <th></th>\n",
       "      <th>High</th>\n",
       "      <th>Low</th>\n",
       "      <th>Open</th>\n",
       "      <th>Close</th>\n",
       "      <th>Volume</th>\n",
       "      <th>Adj Close</th>\n",
       "    </tr>\n",
       "    <tr>\n",
       "      <th>Date</th>\n",
       "      <th></th>\n",
       "      <th></th>\n",
       "      <th></th>\n",
       "      <th></th>\n",
       "      <th></th>\n",
       "      <th></th>\n",
       "    </tr>\n",
       "  </thead>\n",
       "  <tbody>\n",
       "    <tr>\n",
       "      <th>2022-01-03</th>\n",
       "      <td>36595.820312</td>\n",
       "      <td>36246.449219</td>\n",
       "      <td>36321.589844</td>\n",
       "      <td>36585.058594</td>\n",
       "      <td>347930000</td>\n",
       "      <td>36585.058594</td>\n",
       "    </tr>\n",
       "    <tr>\n",
       "      <th>2022-01-04</th>\n",
       "      <td>36934.839844</td>\n",
       "      <td>36636.000000</td>\n",
       "      <td>36636.000000</td>\n",
       "      <td>36799.648438</td>\n",
       "      <td>435080000</td>\n",
       "      <td>36799.648438</td>\n",
       "    </tr>\n",
       "    <tr>\n",
       "      <th>2022-01-05</th>\n",
       "      <td>36952.648438</td>\n",
       "      <td>36400.390625</td>\n",
       "      <td>36722.601562</td>\n",
       "      <td>36407.109375</td>\n",
       "      <td>462040000</td>\n",
       "      <td>36407.109375</td>\n",
       "    </tr>\n",
       "    <tr>\n",
       "      <th>2022-01-06</th>\n",
       "      <td>36464.191406</td>\n",
       "      <td>36200.679688</td>\n",
       "      <td>36409.050781</td>\n",
       "      <td>36236.468750</td>\n",
       "      <td>385890000</td>\n",
       "      <td>36236.468750</td>\n",
       "    </tr>\n",
       "    <tr>\n",
       "      <th>2022-01-07</th>\n",
       "      <td>36382.839844</td>\n",
       "      <td>36111.531250</td>\n",
       "      <td>36249.589844</td>\n",
       "      <td>36231.660156</td>\n",
       "      <td>356110000</td>\n",
       "      <td>36231.660156</td>\n",
       "    </tr>\n",
       "    <tr>\n",
       "      <th>...</th>\n",
       "      <td>...</td>\n",
       "      <td>...</td>\n",
       "      <td>...</td>\n",
       "      <td>...</td>\n",
       "      <td>...</td>\n",
       "      <td>...</td>\n",
       "    </tr>\n",
       "    <tr>\n",
       "      <th>2022-10-04</th>\n",
       "      <td>30325.050781</td>\n",
       "      <td>29826.669922</td>\n",
       "      <td>29826.669922</td>\n",
       "      <td>30316.320312</td>\n",
       "      <td>375640000</td>\n",
       "      <td>30316.320312</td>\n",
       "    </tr>\n",
       "    <tr>\n",
       "      <th>2022-10-05</th>\n",
       "      <td>30454.460938</td>\n",
       "      <td>29886.439453</td>\n",
       "      <td>30078.359375</td>\n",
       "      <td>30273.869141</td>\n",
       "      <td>290610000</td>\n",
       "      <td>30273.869141</td>\n",
       "    </tr>\n",
       "    <tr>\n",
       "      <th>2022-10-06</th>\n",
       "      <td>30329.609375</td>\n",
       "      <td>29859.339844</td>\n",
       "      <td>30206.130859</td>\n",
       "      <td>29926.939453</td>\n",
       "      <td>306840000</td>\n",
       "      <td>29926.939453</td>\n",
       "    </tr>\n",
       "    <tr>\n",
       "      <th>2022-10-07</th>\n",
       "      <td>29685.269531</td>\n",
       "      <td>29142.660156</td>\n",
       "      <td>29685.269531</td>\n",
       "      <td>29296.789062</td>\n",
       "      <td>367950000</td>\n",
       "      <td>29296.789062</td>\n",
       "    </tr>\n",
       "    <tr>\n",
       "      <th>2022-10-10</th>\n",
       "      <td>29485.820312</td>\n",
       "      <td>29010.410156</td>\n",
       "      <td>29419.089844</td>\n",
       "      <td>29202.880859</td>\n",
       "      <td>315410000</td>\n",
       "      <td>29202.880859</td>\n",
       "    </tr>\n",
       "  </tbody>\n",
       "</table>\n",
       "<p>194 rows × 6 columns</p>\n",
       "</div>"
      ],
      "text/plain": [
       "                    High           Low          Open         Close     Volume  \\\n",
       "Date                                                                            \n",
       "2022-01-03  36595.820312  36246.449219  36321.589844  36585.058594  347930000   \n",
       "2022-01-04  36934.839844  36636.000000  36636.000000  36799.648438  435080000   \n",
       "2022-01-05  36952.648438  36400.390625  36722.601562  36407.109375  462040000   \n",
       "2022-01-06  36464.191406  36200.679688  36409.050781  36236.468750  385890000   \n",
       "2022-01-07  36382.839844  36111.531250  36249.589844  36231.660156  356110000   \n",
       "...                  ...           ...           ...           ...        ...   \n",
       "2022-10-04  30325.050781  29826.669922  29826.669922  30316.320312  375640000   \n",
       "2022-10-05  30454.460938  29886.439453  30078.359375  30273.869141  290610000   \n",
       "2022-10-06  30329.609375  29859.339844  30206.130859  29926.939453  306840000   \n",
       "2022-10-07  29685.269531  29142.660156  29685.269531  29296.789062  367950000   \n",
       "2022-10-10  29485.820312  29010.410156  29419.089844  29202.880859  315410000   \n",
       "\n",
       "               Adj Close  \n",
       "Date                      \n",
       "2022-01-03  36585.058594  \n",
       "2022-01-04  36799.648438  \n",
       "2022-01-05  36407.109375  \n",
       "2022-01-06  36236.468750  \n",
       "2022-01-07  36231.660156  \n",
       "...                  ...  \n",
       "2022-10-04  30316.320312  \n",
       "2022-10-05  30273.869141  \n",
       "2022-10-06  29926.939453  \n",
       "2022-10-07  29296.789062  \n",
       "2022-10-10  29202.880859  \n",
       "\n",
       "[194 rows x 6 columns]"
      ]
     },
     "execution_count": 36,
     "metadata": {},
     "output_type": "execute_result"
    }
   ],
   "source": [
    "start_ts = pd.Timestamp(\"2022-01-01\")\n",
    "end_ts = pd.Timestamp(\"2022-10-10\")\n",
    "a = data.DataReader(\"^DJI\", 'yahoo', start_ts, end_ts)\n",
    "a"
   ]
  },
  {
   "cell_type": "code",
   "execution_count": 66,
   "id": "3f7581a2",
   "metadata": {},
   "outputs": [
    {
     "data": {
      "text/html": [
       "<div>\n",
       "<style scoped>\n",
       "    .dataframe tbody tr th:only-of-type {\n",
       "        vertical-align: middle;\n",
       "    }\n",
       "\n",
       "    .dataframe tbody tr th {\n",
       "        vertical-align: top;\n",
       "    }\n",
       "\n",
       "    .dataframe thead th {\n",
       "        text-align: right;\n",
       "    }\n",
       "</style>\n",
       "<table border=\"1\" class=\"dataframe\">\n",
       "  <thead>\n",
       "    <tr style=\"text-align: right;\">\n",
       "      <th></th>\n",
       "      <th>High</th>\n",
       "      <th>Low</th>\n",
       "      <th>Open</th>\n",
       "      <th>Close</th>\n",
       "      <th>Volume</th>\n",
       "      <th>Adj Close</th>\n",
       "    </tr>\n",
       "    <tr>\n",
       "      <th>Date</th>\n",
       "      <th></th>\n",
       "      <th></th>\n",
       "      <th></th>\n",
       "      <th></th>\n",
       "      <th></th>\n",
       "      <th></th>\n",
       "    </tr>\n",
       "  </thead>\n",
       "  <tbody>\n",
       "    <tr>\n",
       "      <th>2022-01-03</th>\n",
       "      <td>270.730011</td>\n",
       "      <td>265.559998</td>\n",
       "      <td>269.489990</td>\n",
       "      <td>268.579987</td>\n",
       "      <td>2750600.0</td>\n",
       "      <td>264.175964</td>\n",
       "    </tr>\n",
       "    <tr>\n",
       "      <th>2022-01-04</th>\n",
       "      <td>271.149994</td>\n",
       "      <td>268.269989</td>\n",
       "      <td>269.500000</td>\n",
       "      <td>268.510010</td>\n",
       "      <td>2506000.0</td>\n",
       "      <td>264.107178</td>\n",
       "    </tr>\n",
       "    <tr>\n",
       "      <th>2022-01-05</th>\n",
       "      <td>270.279999</td>\n",
       "      <td>266.899994</td>\n",
       "      <td>269.299988</td>\n",
       "      <td>267.190002</td>\n",
       "      <td>2473000.0</td>\n",
       "      <td>262.808807</td>\n",
       "    </tr>\n",
       "    <tr>\n",
       "      <th>2022-01-06</th>\n",
       "      <td>270.760010</td>\n",
       "      <td>267.799988</td>\n",
       "      <td>268.119995</td>\n",
       "      <td>269.690002</td>\n",
       "      <td>2908400.0</td>\n",
       "      <td>265.267822</td>\n",
       "    </tr>\n",
       "    <tr>\n",
       "      <th>2022-01-07</th>\n",
       "      <td>270.170013</td>\n",
       "      <td>267.000000</td>\n",
       "      <td>268.559998</td>\n",
       "      <td>267.059998</td>\n",
       "      <td>2209100.0</td>\n",
       "      <td>262.680939</td>\n",
       "    </tr>\n",
       "    <tr>\n",
       "      <th>...</th>\n",
       "      <td>...</td>\n",
       "      <td>...</td>\n",
       "      <td>...</td>\n",
       "      <td>...</td>\n",
       "      <td>...</td>\n",
       "      <td>...</td>\n",
       "    </tr>\n",
       "    <tr>\n",
       "      <th>2022-10-04</th>\n",
       "      <td>241.050003</td>\n",
       "      <td>236.210007</td>\n",
       "      <td>236.710007</td>\n",
       "      <td>238.500000</td>\n",
       "      <td>3685700.0</td>\n",
       "      <td>238.500000</td>\n",
       "    </tr>\n",
       "    <tr>\n",
       "      <th>2022-10-05</th>\n",
       "      <td>240.410004</td>\n",
       "      <td>236.139999</td>\n",
       "      <td>236.910004</td>\n",
       "      <td>239.089996</td>\n",
       "      <td>3033000.0</td>\n",
       "      <td>239.089996</td>\n",
       "    </tr>\n",
       "    <tr>\n",
       "      <th>2022-10-06</th>\n",
       "      <td>239.880005</td>\n",
       "      <td>234.460007</td>\n",
       "      <td>239.339996</td>\n",
       "      <td>234.750000</td>\n",
       "      <td>2999200.0</td>\n",
       "      <td>234.750000</td>\n",
       "    </tr>\n",
       "    <tr>\n",
       "      <th>2022-10-07</th>\n",
       "      <td>234.600006</td>\n",
       "      <td>232.080002</td>\n",
       "      <td>233.960007</td>\n",
       "      <td>233.190002</td>\n",
       "      <td>2294300.0</td>\n",
       "      <td>233.190002</td>\n",
       "    </tr>\n",
       "    <tr>\n",
       "      <th>2022-10-10</th>\n",
       "      <td>236.259995</td>\n",
       "      <td>233.410004</td>\n",
       "      <td>233.410004</td>\n",
       "      <td>234.949997</td>\n",
       "      <td>2668700.0</td>\n",
       "      <td>234.949997</td>\n",
       "    </tr>\n",
       "  </tbody>\n",
       "</table>\n",
       "<p>194 rows × 6 columns</p>\n",
       "</div>"
      ],
      "text/plain": [
       "                  High         Low        Open       Close     Volume  \\\n",
       "Date                                                                    \n",
       "2022-01-03  270.730011  265.559998  269.489990  268.579987  2750600.0   \n",
       "2022-01-04  271.149994  268.269989  269.500000  268.510010  2506000.0   \n",
       "2022-01-05  270.279999  266.899994  269.299988  267.190002  2473000.0   \n",
       "2022-01-06  270.760010  267.799988  268.119995  269.690002  2908400.0   \n",
       "2022-01-07  270.170013  267.000000  268.559998  267.059998  2209100.0   \n",
       "...                ...         ...         ...         ...        ...   \n",
       "2022-10-04  241.050003  236.210007  236.710007  238.500000  3685700.0   \n",
       "2022-10-05  240.410004  236.139999  236.910004  239.089996  3033000.0   \n",
       "2022-10-06  239.880005  234.460007  239.339996  234.750000  2999200.0   \n",
       "2022-10-07  234.600006  232.080002  233.960007  233.190002  2294300.0   \n",
       "2022-10-10  236.259995  233.410004  233.410004  234.949997  2668700.0   \n",
       "\n",
       "             Adj Close  \n",
       "Date                    \n",
       "2022-01-03  264.175964  \n",
       "2022-01-04  264.107178  \n",
       "2022-01-05  262.808807  \n",
       "2022-01-06  265.267822  \n",
       "2022-01-07  262.680939  \n",
       "...                ...  \n",
       "2022-10-04  238.500000  \n",
       "2022-10-05  239.089996  \n",
       "2022-10-06  234.750000  \n",
       "2022-10-07  233.190002  \n",
       "2022-10-10  234.949997  \n",
       "\n",
       "[194 rows x 6 columns]"
      ]
     },
     "execution_count": 66,
     "metadata": {},
     "output_type": "execute_result"
    }
   ],
   "source": [
    "b = data.DataReader(\"MCD\", 'yahoo', start_ts, end_ts)\n",
    "b"
   ]
  },
  {
   "cell_type": "code",
   "execution_count": 38,
   "id": "a2eb2e08",
   "metadata": {},
   "outputs": [
    {
     "data": {
      "text/html": [
       "<div>\n",
       "<style scoped>\n",
       "    .dataframe tbody tr th:only-of-type {\n",
       "        vertical-align: middle;\n",
       "    }\n",
       "\n",
       "    .dataframe tbody tr th {\n",
       "        vertical-align: top;\n",
       "    }\n",
       "\n",
       "    .dataframe thead th {\n",
       "        text-align: right;\n",
       "    }\n",
       "</style>\n",
       "<table border=\"1\" class=\"dataframe\">\n",
       "  <thead>\n",
       "    <tr style=\"text-align: right;\">\n",
       "      <th></th>\n",
       "      <th>High</th>\n",
       "      <th>Low</th>\n",
       "      <th>Open</th>\n",
       "      <th>Close</th>\n",
       "      <th>Volume</th>\n",
       "      <th>Adj Close</th>\n",
       "    </tr>\n",
       "    <tr>\n",
       "      <th>Date</th>\n",
       "      <th></th>\n",
       "      <th></th>\n",
       "      <th></th>\n",
       "      <th></th>\n",
       "      <th></th>\n",
       "      <th></th>\n",
       "    </tr>\n",
       "  </thead>\n",
       "  <tbody>\n",
       "    <tr>\n",
       "      <th>2022-09-27</th>\n",
       "      <td>139.419998</td>\n",
       "      <td>134.119995</td>\n",
       "      <td>137.919998</td>\n",
       "      <td>134.399994</td>\n",
       "      <td>30826500</td>\n",
       "      <td>134.399994</td>\n",
       "    </tr>\n",
       "    <tr>\n",
       "      <th>2022-09-28</th>\n",
       "      <td>142.029999</td>\n",
       "      <td>134.270004</td>\n",
       "      <td>134.619995</td>\n",
       "      <td>141.610001</td>\n",
       "      <td>32658500</td>\n",
       "      <td>141.610001</td>\n",
       "    </tr>\n",
       "    <tr>\n",
       "      <th>2022-09-29</th>\n",
       "      <td>139.839996</td>\n",
       "      <td>135.199997</td>\n",
       "      <td>139.360001</td>\n",
       "      <td>136.410004</td>\n",
       "      <td>38985400</td>\n",
       "      <td>136.410004</td>\n",
       "    </tr>\n",
       "    <tr>\n",
       "      <th>2022-09-30</th>\n",
       "      <td>140.990005</td>\n",
       "      <td>135.500000</td>\n",
       "      <td>136.050003</td>\n",
       "      <td>135.679993</td>\n",
       "      <td>33166400</td>\n",
       "      <td>135.679993</td>\n",
       "    </tr>\n",
       "    <tr>\n",
       "      <th>2022-10-03</th>\n",
       "      <td>139.619995</td>\n",
       "      <td>136.100006</td>\n",
       "      <td>137.139999</td>\n",
       "      <td>138.610001</td>\n",
       "      <td>27723100</td>\n",
       "      <td>138.610001</td>\n",
       "    </tr>\n",
       "    <tr>\n",
       "      <th>2022-10-04</th>\n",
       "      <td>142.389999</td>\n",
       "      <td>139.339996</td>\n",
       "      <td>140.490005</td>\n",
       "      <td>140.279999</td>\n",
       "      <td>34670700</td>\n",
       "      <td>140.279999</td>\n",
       "    </tr>\n",
       "    <tr>\n",
       "      <th>2022-10-05</th>\n",
       "      <td>140.210007</td>\n",
       "      <td>134.779999</td>\n",
       "      <td>138.240005</td>\n",
       "      <td>138.979996</td>\n",
       "      <td>27979300</td>\n",
       "      <td>138.979996</td>\n",
       "    </tr>\n",
       "    <tr>\n",
       "      <th>2022-10-06</th>\n",
       "      <td>141.449997</td>\n",
       "      <td>136.600006</td>\n",
       "      <td>137.720001</td>\n",
       "      <td>139.070007</td>\n",
       "      <td>36231100</td>\n",
       "      <td>139.070007</td>\n",
       "    </tr>\n",
       "    <tr>\n",
       "      <th>2022-10-07</th>\n",
       "      <td>138.289993</td>\n",
       "      <td>132.440002</td>\n",
       "      <td>136.759995</td>\n",
       "      <td>133.449997</td>\n",
       "      <td>33214800</td>\n",
       "      <td>133.449997</td>\n",
       "    </tr>\n",
       "    <tr>\n",
       "      <th>2022-10-10</th>\n",
       "      <td>136.110001</td>\n",
       "      <td>131.869995</td>\n",
       "      <td>133.550003</td>\n",
       "      <td>133.789993</td>\n",
       "      <td>24024000</td>\n",
       "      <td>133.789993</td>\n",
       "    </tr>\n",
       "  </tbody>\n",
       "</table>\n",
       "</div>"
      ],
      "text/plain": [
       "                  High         Low        Open       Close    Volume  \\\n",
       "Date                                                                   \n",
       "2022-09-27  139.419998  134.119995  137.919998  134.399994  30826500   \n",
       "2022-09-28  142.029999  134.270004  134.619995  141.610001  32658500   \n",
       "2022-09-29  139.839996  135.199997  139.360001  136.410004  38985400   \n",
       "2022-09-30  140.990005  135.500000  136.050003  135.679993  33166400   \n",
       "2022-10-03  139.619995  136.100006  137.139999  138.610001  27723100   \n",
       "2022-10-04  142.389999  139.339996  140.490005  140.279999  34670700   \n",
       "2022-10-05  140.210007  134.779999  138.240005  138.979996  27979300   \n",
       "2022-10-06  141.449997  136.600006  137.720001  139.070007  36231100   \n",
       "2022-10-07  138.289993  132.440002  136.759995  133.449997  33214800   \n",
       "2022-10-10  136.110001  131.869995  133.550003  133.789993  24024000   \n",
       "\n",
       "             Adj Close  \n",
       "Date                    \n",
       "2022-09-27  134.399994  \n",
       "2022-09-28  141.610001  \n",
       "2022-09-29  136.410004  \n",
       "2022-09-30  135.679993  \n",
       "2022-10-03  138.610001  \n",
       "2022-10-04  140.279999  \n",
       "2022-10-05  138.979996  \n",
       "2022-10-06  139.070007  \n",
       "2022-10-07  133.449997  \n",
       "2022-10-10  133.789993  "
      ]
     },
     "execution_count": 38,
     "metadata": {},
     "output_type": "execute_result"
    }
   ],
   "source": [
    "b[-10:]"
   ]
  },
  {
   "cell_type": "code",
   "execution_count": 67,
   "id": "d1d74cd7",
   "metadata": {},
   "outputs": [],
   "source": [
    "y = b[\"Open\"][:-10]"
   ]
  },
  {
   "cell_type": "code",
   "execution_count": 74,
   "id": "6cae73b4",
   "metadata": {},
   "outputs": [
    {
     "data": {
      "text/plain": [
       "Date\n",
       "2022-09-27    244.580002\n",
       "2022-09-28    236.130005\n",
       "2022-09-29    236.320007\n",
       "2022-09-30    233.320007\n",
       "2022-10-03    233.520004\n",
       "2022-10-04    236.710007\n",
       "2022-10-05    236.910004\n",
       "2022-10-06    239.339996\n",
       "2022-10-07    233.960007\n",
       "2022-10-10    233.410004\n",
       "Name: Open, dtype: float64"
      ]
     },
     "execution_count": 74,
     "metadata": {},
     "output_type": "execute_result"
    }
   ],
   "source": [
    "b[-10:][\"Open\"]"
   ]
  },
  {
   "cell_type": "code",
   "execution_count": 69,
   "id": "4531aff2",
   "metadata": {},
   "outputs": [
    {
     "data": {
      "text/plain": [
       "0      269.489990\n",
       "1      269.500000\n",
       "2      269.299988\n",
       "3      268.119995\n",
       "4      268.559998\n",
       "          ...    \n",
       "179    256.100006\n",
       "180    255.130005\n",
       "181    250.389999\n",
       "182    247.210007\n",
       "183    245.940002\n",
       "Name: Open, Length: 184, dtype: float64"
      ]
     },
     "execution_count": 69,
     "metadata": {},
     "output_type": "execute_result"
    }
   ],
   "source": [
    "y = y.reset_index()\n",
    "train = y[\"Open\"]\n",
    "train"
   ]
  },
  {
   "cell_type": "code",
   "execution_count": 49,
   "id": "ff22740e",
   "metadata": {},
   "outputs": [],
   "source": [
    "forecaster = TBATS(use_box_cox=True, use_trend=True, sp=7, use_arma_errors=True)"
   ]
  },
  {
   "cell_type": "code",
   "execution_count": 50,
   "id": "9b40b5db",
   "metadata": {},
   "outputs": [
    {
     "data": {
      "text/plain": [
       "TBATS(sp=7, use_box_cox=True, use_trend=True)"
      ]
     },
     "execution_count": 50,
     "metadata": {},
     "output_type": "execute_result"
    }
   ],
   "source": [
    "forecaster.fit(train)"
   ]
  },
  {
   "cell_type": "code",
   "execution_count": 51,
   "id": "dfb83aa4",
   "metadata": {},
   "outputs": [
    {
     "data": {
      "text/plain": [
       "164    278.743225\n",
       "165    278.636357\n",
       "166    278.532563\n",
       "Name: Open, dtype: float64"
      ]
     },
     "execution_count": 51,
     "metadata": {},
     "output_type": "execute_result"
    }
   ],
   "source": [
    "forecaster.predict(fh = [1,2,3])"
   ]
  },
  {
   "cell_type": "code",
   "execution_count": 64,
   "id": "69666fea",
   "metadata": {},
   "outputs": [
    {
     "data": {
      "text/plain": [
       "TBATS(sp=7, use_box_cox=True, use_trend=True)"
      ]
     },
     "execution_count": 64,
     "metadata": {},
     "output_type": "execute_result"
    }
   ],
   "source": [
    "forecaster.update(y = pd.Series(data = [137.139999], index = [188]))"
   ]
  },
  {
   "cell_type": "code",
   "execution_count": 65,
   "id": "f9d49123",
   "metadata": {},
   "outputs": [
    {
     "data": {
      "text/plain": [
       "189    137.200348\n",
       "dtype: float64"
      ]
     },
     "execution_count": 65,
     "metadata": {},
     "output_type": "execute_result"
    }
   ],
   "source": [
    "forecaster.predict(fh = [1])"
   ]
  },
  {
   "cell_type": "code",
   "execution_count": 60,
   "id": "08477535",
   "metadata": {},
   "outputs": [
    {
     "data": {
      "text/plain": [
       "Period\n",
       "1958-01    340.0\n",
       "Freq: M, Name: Number of airline passengers, dtype: float64"
      ]
     },
     "execution_count": 60,
     "metadata": {},
     "output_type": "execute_result"
    }
   ],
   "source": [
    "temp = load_airline()\n",
    "temp[[-36]]"
   ]
  },
  {
   "cell_type": "code",
   "execution_count": 63,
   "id": "cffc129d",
   "metadata": {},
   "outputs": [
    {
     "data": {
      "text/plain": [
       "2    1\n",
       "dtype: int64"
      ]
     },
     "execution_count": 63,
     "metadata": {},
     "output_type": "execute_result"
    }
   ],
   "source": [
    "pd.Series(data = [1], index = [2])"
   ]
  },
  {
   "cell_type": "code",
   "execution_count": null,
   "id": "320e4801",
   "metadata": {},
   "outputs": [],
   "source": []
  },
  {
   "cell_type": "code",
   "execution_count": null,
   "id": "51f8eb00",
   "metadata": {},
   "outputs": [],
   "source": []
  },
  {
   "cell_type": "code",
   "execution_count": null,
   "id": "4be7f909",
   "metadata": {},
   "outputs": [],
   "source": []
  },
  {
   "cell_type": "code",
   "execution_count": 2,
   "id": "674e431d",
   "metadata": {},
   "outputs": [],
   "source": [
    "from src.StockPrice_visualize import StockData"
   ]
  },
  {
   "cell_type": "code",
   "execution_count": 4,
   "id": "2da4cecc",
   "metadata": {},
   "outputs": [
    {
     "name": "stdout",
     "output_type": "stream",
     "text": [
      "The market is not open on the start date, automatically shifted to the last open date which is 2021-12-31\n"
     ]
    }
   ],
   "source": [
    "data = StockData(start = \"2022-01-01\")"
   ]
  },
  {
   "cell_type": "code",
   "execution_count": 5,
   "id": "51098e3b",
   "metadata": {},
   "outputs": [
    {
     "data": {
      "text/plain": [
       "Timestamp('2021-12-31 00:00:00')"
      ]
     },
     "execution_count": 5,
     "metadata": {},
     "output_type": "execute_result"
    }
   ],
   "source": [
    "data.start_ts"
   ]
  },
  {
   "cell_type": "code",
   "execution_count": 40,
   "id": "ec66d8b8",
   "metadata": {},
   "outputs": [],
   "source": [
    "class StockData:\n",
    "    '''\n",
    "    import the data for given stocks\n",
    "    '''\n",
    "    def __init__(self, stocks = [\"MSFT\", \"AMZN\", \"AAPL\"], start = \"2017-01-01\", end = \"2022-10-31\"):\n",
    "        self.df = dict()\n",
    "        self.start_ts = StockData.last_open_day(start)\n",
    "        self.end_ts = StockData.last_open_day(end)\n",
    "        \n",
    "        ### check end time is not after today\n",
    "        if pd.Timestamp(end) > pd.Timestamp.now():\n",
    "            raise ValueError(\"The end time is after today\")\n",
    "        \n",
    "        ### add message when start, end are not market open date\n",
    "        if self.start_ts != pd.Timestamp(start):\n",
    "            print(\"The market is not open on the start date, automatically shifted to the last open date with is %s\" \n",
    "                            %(self.start_ts.strftime(\"%Y-%m-%d\")))\n",
    "        if self.end_ts != pd.Timestamp(end):\n",
    "            print(\"The market is not open on the end date, automatically shifted to the last open date with is %s\" \n",
    "                            %(self.end_ts.strftime(\"%Y-%m-%d\")))\n",
    "        \n",
    "        for name in stocks:\n",
    "            ### check name is a valid stock name\n",
    "            try:\n",
    "                self.df[name] = data.DataReader(name, 'yahoo', self.start_ts, self.end_ts)\n",
    "            except:\n",
    "                raise ValueError(\"%s is not a valid stock code in the time range (%s, %s)\" \n",
    "                                 %(name, self.start_ts.strftime(\"%Y-%m-%d\"), self.end_ts.strftime(\"%Y-%m-%d\")))\n",
    "            self.df[name][\"close-open\"] = [StockData.diff(x,y)[0] for x,y in zip(self.df[name][\"Open\"], self.df[name][\"Close\"])]\n",
    "            self.df[name][\"high-low\"] = [abs(StockData.diff(x,y)[0]) for x,y in zip(self.df[name][\"High\"], self.df[name][\"Low\"])]\n",
    "        return\n",
    "    \n",
    "    '''\n",
    "    return the last market open day before the give date\n",
    "    '''\n",
    "    def last_open_day(date):\n",
    "        date_ts = pd.Timestamp(date)\n",
    "        nyse = mcal.get_calendar(\"NYSE\")\n",
    "        start =date_ts - dt.timedelta(days = 20) \n",
    "        market_days = nyse.valid_days(start, date_ts)\n",
    "        \n",
    "        for i in range(20):\n",
    "            temp = date_ts - dt.timedelta(days = i)\n",
    "            if temp.tz_localize(\"UTC\") in market_days:\n",
    "                return temp \n",
    "    '''\n",
    "    return the next market open day after the given date\n",
    "    '''\n",
    "    def next_open_day(date):\n",
    "        date_ts = pd.Timestamp(date)\n",
    "        nyse = mcal.get_calendar(\"NYSE\")\n",
    "        end =date_ts + dt.timedelta(days = 20) \n",
    "        market_days = nyse.valid_days(date_ts, end)\n",
    "        \n",
    "        for i in range(20):\n",
    "            temp = date_ts + dt.timedelta(days = i)\n",
    "            if temp.tz_localize(\"UTC\") in market_days:\n",
    "                return temp \n",
    "    \n",
    "    '''\n",
    "    return the count of open days in date_range\n",
    "    '''\n",
    "    def count_open_day(start = \"\", end = \"\", period = None):\n",
    "        ### add test for three parameters, al least two should be not emply. If all parameters are given\n",
    "        ### they should match\n",
    "        start_ts = pd.Timestamp(start) if start else pd.Timestamp(end) - dt.timedelta(days = period-1)\n",
    "        end_ts = pd.Timestamp(end) if end else pd.Timestamp(start) + dt.timedelta(days = period-1)\n",
    "        \n",
    "        nyse = mcal.get_calendar(\"NYSE\")\n",
    "        return len(nyse.valid_days(start_ts, end_ts))\n",
    "        \n",
    "        \n",
    "    \n",
    "    '''\n",
    "    compute the inflation, return a string of percentage\n",
    "    '''\n",
    "    def diff(a,b):\n",
    "        result = round((b-a)/a, 4)\n",
    "        return result, str(round(result*100, 2))+\"%\"\n",
    "    \n",
    "    \n",
    "    \n",
    "    '''\n",
    "    get the inflation from start to end\n",
    "    '''\n",
    "    def total_inflation(self, stock = [], start = \"\", end = \"\", method = \"close-open\"):\n",
    "        if not stock:\n",
    "            stock = list(self.df.keys())\n",
    "        \n",
    "        start_ts = StockData.last_open_day(start) if start else self.start_ts\n",
    "        end_ts = StockData.last_open_day(end) if end else self.end_ts\n",
    "        \n",
    "        inflation = dict()\n",
    "        if method == \"close-open\":\n",
    "            for name in stock:\n",
    "                inflation[name] = StockData.diff(self.df[name].loc[start_ts][\"Close\"], self.df[name].loc[end_ts][\"Open\"])[1]\n",
    "        else:\n",
    "            for name in stock:\n",
    "                inflation[name] = StockData.diff(self.df[name].loc[start_ts][\"High\"], self.df[name].loc[end_ts][\"Low\"])[1]\n",
    "        \n",
    "        return pd.DataFrame(data = inflation, index = [\"inflation\"])\n",
    "    \n",
    "    \n",
    "    \n",
    "    '''\n",
    "    get the inflation for every day\n",
    "    '''\n",
    "    def inflation(self, stock = [], start = \"\", end = \"\", method = \"close-open\", in_function = False):\n",
    "        if not stock:\n",
    "            stock = list(self.df.keys())\n",
    "        \n",
    "        start_ts = StockData.last_open_day(start) if start else self.start_ts\n",
    "        end_ts = StockData.last_open_day(end) if end else self.end_ts\n",
    "        date_range = pd.date_range(start_ts, end_ts)\n",
    "        \n",
    "        result = pd.DataFrame()\n",
    "        for name in stock:\n",
    "            result[name] = self.df[name].loc[self.df[name].index.isin(date_range), :][method]\n",
    "        \n",
    "        max_inc_date = result.idxmax()\n",
    "        max_dec_date = result.idxmin()\n",
    "        \n",
    "        if not in_function:\n",
    "            for name in stock:\n",
    "                print(\"The average for %s is: %s \\n\" %(name, str(round(np.mean(result[name])*100, 2))+\"%\"))\n",
    "                print(\"The max increase/min decrease of %s occured on %s, which is %s \\n \" \n",
    "                  %(name, max_inc_date[name].strftime(\"%Y-%m-%d\"), str(round(result[name].max()*100, 2))+\"%\"))\n",
    "                print(\"The max decrease/min increase of %s occured on %s, which is %s \\n\" \n",
    "                  %(name, max_dec_date[name].strftime(\"%Y-%m-%d\"), str(round(result[name].min()*100, 2))+\"%\"))\n",
    "            \n",
    "        return result\n",
    "    \n",
    "    \n",
    "    '''\n",
    "    plot the daily inflation\n",
    "    '''\n",
    "    def inflation_plot(self, stock = [], start = \"\", end = \"\", method = \"close-open\"):\n",
    "        df_inflation = self.inflation(stock, start, end, method, in_function = True)\n",
    "        sns.set()\n",
    "        plt.figure(figsize = (10, 8))\n",
    "        \n",
    "        plt.subplot(1,2,1)\n",
    "        df_inflation.plot.box()\n",
    "        plt.title(\"Box Plot for Inflation\")\n",
    "        \n",
    "        plt.subplot(1,2,2)\n",
    "        df_inflation.plot()\n",
    "        plt.legend()\n",
    "        plt.title(\"Plot for the Inflation\")\n",
    "        plt.show()\n",
    "        \n",
    "         \n",
    "\n",
    "    '''\n",
    "    plot the daily price data\n",
    "    '''\n",
    "    def price_plot(self, stock = [], start = \"\", end = \"\", method = [\"Open\", \"Close\", \"High\", \"Low\"]):\n",
    "        if not stock:\n",
    "            stock = list(self.df.keys())\n",
    "        \n",
    "        ### add message when stock is more than 10\n",
    "        \n",
    "        start_ts = StockData.last_open_day(start) if start else self.start_ts\n",
    "        end_ts = StockData.last_open_day(end) if end else self.end_ts\n",
    "        \n",
    "        date_range = pd.date_range(start = start_ts, end = end_ts)\n",
    "        \n",
    "        sns.set()\n",
    "        plt.figure(figsize = (15, 45))\n",
    "        \n",
    "        for idx, name in enumerate(stock):\n",
    "            plt.subplot(5, 1, idx+1)\n",
    "            df_temp = self.df[name].loc[self.df[name].index.isin(date_range), :]\n",
    "            for col in method:\n",
    "                df_temp[col].plot()\n",
    "            plt.legend()\n",
    "            plt.title(name)\n",
    "        plt.show()\n",
    "    \n",
    "    \n",
    "    \n",
    "    \n",
    "            "
   ]
  },
  {
   "cell_type": "code",
   "execution_count": 42,
   "id": "9bc69a8c",
   "metadata": {},
   "outputs": [
    {
     "ename": "ValueError",
     "evalue": "The end time is after today",
     "output_type": "error",
     "traceback": [
      "\u001b[0;31m---------------------------------------------------------------------------\u001b[0m",
      "\u001b[0;31mValueError\u001b[0m                                Traceback (most recent call last)",
      "\u001b[0;32m/var/folders/hy/4gtntmfj2hv3dk_t_jrxkxjw0000gn/T/ipykernel_19541/1333986913.py\u001b[0m in \u001b[0;36m<module>\u001b[0;34m\u001b[0m\n\u001b[0;32m----> 1\u001b[0;31m \u001b[0mmodel\u001b[0m \u001b[0;34m=\u001b[0m \u001b[0mStockData\u001b[0m\u001b[0;34m(\u001b[0m\u001b[0;34m[\u001b[0m\u001b[0;34m\"Meta\"\u001b[0m\u001b[0;34m]\u001b[0m\u001b[0;34m,\u001b[0m\u001b[0mstart\u001b[0m \u001b[0;34m=\u001b[0m \u001b[0;34m\"2010-01-01\"\u001b[0m\u001b[0;34m,\u001b[0m \u001b[0mend\u001b[0m \u001b[0;34m=\u001b[0m \u001b[0;34m\"2023-07-04\"\u001b[0m\u001b[0;34m)\u001b[0m\u001b[0;34m\u001b[0m\u001b[0;34m\u001b[0m\u001b[0m\n\u001b[0m",
      "\u001b[0;32m/var/folders/hy/4gtntmfj2hv3dk_t_jrxkxjw0000gn/T/ipykernel_19541/1129262782.py\u001b[0m in \u001b[0;36m__init__\u001b[0;34m(self, stocks, start, end)\u001b[0m\n\u001b[1;32m     10\u001b[0m         \u001b[0;31m### check end time is not after today\u001b[0m\u001b[0;34m\u001b[0m\u001b[0;34m\u001b[0m\u001b[0;34m\u001b[0m\u001b[0m\n\u001b[1;32m     11\u001b[0m         \u001b[0;32mif\u001b[0m \u001b[0mpd\u001b[0m\u001b[0;34m.\u001b[0m\u001b[0mTimestamp\u001b[0m\u001b[0;34m(\u001b[0m\u001b[0mend\u001b[0m\u001b[0;34m)\u001b[0m \u001b[0;34m>\u001b[0m \u001b[0mpd\u001b[0m\u001b[0;34m.\u001b[0m\u001b[0mTimestamp\u001b[0m\u001b[0;34m.\u001b[0m\u001b[0mnow\u001b[0m\u001b[0;34m(\u001b[0m\u001b[0;34m)\u001b[0m\u001b[0;34m:\u001b[0m\u001b[0;34m\u001b[0m\u001b[0;34m\u001b[0m\u001b[0m\n\u001b[0;32m---> 12\u001b[0;31m             \u001b[0;32mraise\u001b[0m \u001b[0mValueError\u001b[0m\u001b[0;34m(\u001b[0m\u001b[0;34m\"The end time is after today\"\u001b[0m\u001b[0;34m)\u001b[0m\u001b[0;34m\u001b[0m\u001b[0;34m\u001b[0m\u001b[0m\n\u001b[0m\u001b[1;32m     13\u001b[0m \u001b[0;34m\u001b[0m\u001b[0m\n\u001b[1;32m     14\u001b[0m \u001b[0;34m\u001b[0m\u001b[0m\n",
      "\u001b[0;31mValueError\u001b[0m: The end time is after today"
     ]
    }
   ],
   "source": [
    "model = StockData([\"Meta\"],start = \"2010-01-01\", end = \"2023-07-04\")"
   ]
  },
  {
   "cell_type": "code",
   "execution_count": 17,
   "id": "05c5ae39",
   "metadata": {},
   "outputs": [],
   "source": [
    "nyse = mcal.get_calendar(\"NYSE\")"
   ]
  },
  {
   "cell_type": "code",
   "execution_count": 18,
   "id": "7920c9ac",
   "metadata": {},
   "outputs": [
    {
     "data": {
      "text/plain": [
       "DatetimeIndex(['2022-01-03 00:00:00+00:00', '2022-01-04 00:00:00+00:00',\n",
       "               '2022-01-05 00:00:00+00:00', '2022-01-06 00:00:00+00:00',\n",
       "               '2022-01-07 00:00:00+00:00', '2022-01-10 00:00:00+00:00',\n",
       "               '2022-01-11 00:00:00+00:00', '2022-01-12 00:00:00+00:00',\n",
       "               '2022-01-13 00:00:00+00:00', '2022-01-14 00:00:00+00:00',\n",
       "               '2022-01-18 00:00:00+00:00', '2022-01-19 00:00:00+00:00',\n",
       "               '2022-01-20 00:00:00+00:00', '2022-01-21 00:00:00+00:00'],\n",
       "              dtype='datetime64[ns, UTC]', freq=None)"
      ]
     },
     "execution_count": 18,
     "metadata": {},
     "output_type": "execute_result"
    }
   ],
   "source": [
    "start_ts = pd.Timestamp(\"2022-01-03\")\n",
    "end_ts = pd.Timestamp(\"2022-01-22\")\n",
    "nyse.valid_days(start_ts, end_ts)"
   ]
  },
  {
   "cell_type": "code",
   "execution_count": 5,
   "id": "1abc8e3e",
   "metadata": {},
   "outputs": [
    {
     "data": {
      "text/plain": [
       "True"
      ]
     },
     "execution_count": 5,
     "metadata": {},
     "output_type": "execute_result"
    }
   ],
   "source": [
    "StockData.last_open_day(\"2017-01-01\") == pd.Timestamp(\"2016-12-30\")"
   ]
  },
  {
   "cell_type": "code",
   "execution_count": 464,
   "id": "19513007",
   "metadata": {},
   "outputs": [
    {
     "data": {
      "image/png": "[encoded data removed]",
      "text/plain": [
       "<Figure size 1000x800 with 1 Axes>"
      ]
     },
     "metadata": {},
     "output_type": "display_data"
    },
    {
     "data": {
      "image/png": "[encoded data removed]",
      "text/plain": [
       "<Figure size 640x480 with 1 Axes>"
      ]
     },
     "metadata": {},
     "output_type": "display_data"
    },
    {
     "data": {
      "image/png": "[encoded data removed]",
      "text/plain": [
       "<Figure size 640x480 with 1 Axes>"
      ]
     },
     "metadata": {},
     "output_type": "display_data"
    }
   ],
   "source": [
    "model.inflation_plot()"
   ]
  },
  {
   "cell_type": "code",
   "execution_count": 418,
   "id": "ace2bd84",
   "metadata": {
    "scrolled": true
   },
   "outputs": [],
   "source": [
    "temp1 = temp[['Meta']].reset_index()[['Meta']]\n",
    "temp1['C'] = 'Meta'\n",
    "temp1.columns = [[\"change\",'C']]\n",
    "temp2 = temp[['AMZN']].reset_index()[['AMZN']]\n",
    "temp2['C'] = 'AMZN'\n",
    "temp2.columns = [[\"change\",'C']]"
   ]
  },
  {
   "cell_type": "code",
   "execution_count": 441,
   "id": "30c2059c",
   "metadata": {
    "scrolled": true
   },
   "outputs": [],
   "source": [
    "temp3 = pd.concat([temp1,temp2], axis = 0)\n",
    "temp3.reset_index(drop = True,inplace=True)"
   ]
  },
  {
   "cell_type": "code",
   "execution_count": 451,
   "id": "57fc1d5c",
   "metadata": {},
   "outputs": [
    {
     "data": {
      "text/plain": [
       "<AxesSubplot:>"
      ]
     },
     "execution_count": 451,
     "metadata": {},
     "output_type": "execute_result"
    },
    {
     "data": {
      "image/png": "[encoded data removed]",
      "text/plain": [
       "<Figure size 640x480 with 1 Axes>"
      ]
     },
     "metadata": {},
     "output_type": "display_data"
    }
   ],
   "source": [
    "temp.plot.box()"
   ]
  },
  {
   "cell_type": "code",
   "execution_count": 461,
   "id": "615c81b1",
   "metadata": {},
   "outputs": [
    {
     "data": {
      "text/plain": [
       "Meta   -0.000736\n",
       "AMZN   -0.000709\n",
       "dtype: float64"
      ]
     },
     "execution_count": 461,
     "metadata": {},
     "output_type": "execute_result"
    }
   ],
   "source": [
    "np.mean(temp)"
   ]
  },
  {
   "cell_type": "code",
   "execution_count": 388,
   "id": "b78fe738",
   "metadata": {},
   "outputs": [
    {
     "data": {
      "text/html": [
       "<div>\n",
       "<style scoped>\n",
       "    .dataframe tbody tr th:only-of-type {\n",
       "        vertical-align: middle;\n",
       "    }\n",
       "\n",
       "    .dataframe tbody tr th {\n",
       "        vertical-align: top;\n",
       "    }\n",
       "\n",
       "    .dataframe thead th {\n",
       "        text-align: right;\n",
       "    }\n",
       "</style>\n",
       "<table border=\"1\" class=\"dataframe\">\n",
       "  <thead>\n",
       "    <tr style=\"text-align: right;\">\n",
       "      <th></th>\n",
       "      <th>Meta</th>\n",
       "      <th>AMZN</th>\n",
       "    </tr>\n",
       "  </thead>\n",
       "  <tbody>\n",
       "    <tr>\n",
       "      <th>inflation</th>\n",
       "      <td>-71.95%</td>\n",
       "      <td>-37.62%</td>\n",
       "    </tr>\n",
       "  </tbody>\n",
       "</table>\n",
       "</div>"
      ],
      "text/plain": [
       "              Meta     AMZN\n",
       "inflation  -71.95%  -37.62%"
      ]
     },
     "execution_count": 388,
     "metadata": {},
     "output_type": "execute_result"
    }
   ],
   "source": [
    "model.total_inflation()"
   ]
  },
  {
   "cell_type": "code",
   "execution_count": 378,
   "id": "1c23574b",
   "metadata": {},
   "outputs": [
    {
     "data": {
      "text/html": [
       "<div>\n",
       "<style scoped>\n",
       "    .dataframe tbody tr th:only-of-type {\n",
       "        vertical-align: middle;\n",
       "    }\n",
       "\n",
       "    .dataframe tbody tr th {\n",
       "        vertical-align: top;\n",
       "    }\n",
       "\n",
       "    .dataframe thead th {\n",
       "        text-align: right;\n",
       "    }\n",
       "</style>\n",
       "<table border=\"1\" class=\"dataframe\">\n",
       "  <thead>\n",
       "    <tr style=\"text-align: right;\">\n",
       "      <th></th>\n",
       "      <th>Meta</th>\n",
       "      <th>AMZN</th>\n",
       "    </tr>\n",
       "    <tr>\n",
       "      <th>Date</th>\n",
       "      <th></th>\n",
       "      <th></th>\n",
       "    </tr>\n",
       "  </thead>\n",
       "  <tbody>\n",
       "    <tr>\n",
       "      <th>2021-12-31</th>\n",
       "      <td>-0.0194</td>\n",
       "      <td>-0.0133</td>\n",
       "    </tr>\n",
       "    <tr>\n",
       "      <th>2022-01-03</th>\n",
       "      <td>0.0007</td>\n",
       "      <td>0.0170</td>\n",
       "    </tr>\n",
       "    <tr>\n",
       "      <th>2022-01-04</th>\n",
       "      <td>-0.0101</td>\n",
       "      <td>-0.0171</td>\n",
       "    </tr>\n",
       "    <tr>\n",
       "      <th>2022-01-05</th>\n",
       "      <td>-0.0266</td>\n",
       "      <td>-0.0151</td>\n",
       "    </tr>\n",
       "    <tr>\n",
       "      <th>2022-01-06</th>\n",
       "      <td>0.0299</td>\n",
       "      <td>-0.0012</td>\n",
       "    </tr>\n",
       "    <tr>\n",
       "      <th>...</th>\n",
       "      <td>...</td>\n",
       "      <td>...</td>\n",
       "    </tr>\n",
       "    <tr>\n",
       "      <th>2022-10-26</th>\n",
       "      <td>-0.0141</td>\n",
       "      <td>-0.0029</td>\n",
       "    </tr>\n",
       "    <tr>\n",
       "      <th>2022-10-27</th>\n",
       "      <td>-0.0004</td>\n",
       "      <td>-0.0260</td>\n",
       "    </tr>\n",
       "    <tr>\n",
       "      <th>2022-10-28</th>\n",
       "      <td>-0.0038</td>\n",
       "      <td>0.0562</td>\n",
       "    </tr>\n",
       "    <tr>\n",
       "      <th>2022-10-31</th>\n",
       "      <td>-0.0515</td>\n",
       "      <td>-0.0108</td>\n",
       "    </tr>\n",
       "    <tr>\n",
       "      <th>2022-11-01</th>\n",
       "      <td>0.0092</td>\n",
       "      <td>-0.0692</td>\n",
       "    </tr>\n",
       "  </tbody>\n",
       "</table>\n",
       "<p>211 rows × 2 columns</p>\n",
       "</div>"
      ],
      "text/plain": [
       "              Meta    AMZN\n",
       "Date                      \n",
       "2021-12-31 -0.0194 -0.0133\n",
       "2022-01-03  0.0007  0.0170\n",
       "2022-01-04 -0.0101 -0.0171\n",
       "2022-01-05 -0.0266 -0.0151\n",
       "2022-01-06  0.0299 -0.0012\n",
       "...            ...     ...\n",
       "2022-10-26 -0.0141 -0.0029\n",
       "2022-10-27 -0.0004 -0.0260\n",
       "2022-10-28 -0.0038  0.0562\n",
       "2022-10-31 -0.0515 -0.0108\n",
       "2022-11-01  0.0092 -0.0692\n",
       "\n",
       "[211 rows x 2 columns]"
      ]
     },
     "execution_count": 378,
     "metadata": {},
     "output_type": "execute_result"
    }
   ],
   "source": [
    "temp"
   ]
  },
  {
   "cell_type": "code",
   "execution_count": 387,
   "id": "f1cd83e0",
   "metadata": {},
   "outputs": [
    {
     "data": {
      "image/png": "[encoded data removed]",
      "text/plain": [
       "<Figure size 640x480 with 1 Axes>"
      ]
     },
     "metadata": {},
     "output_type": "display_data"
    }
   ],
   "source": [
    "temp.plot()\n",
    "plt.show()"
   ]
  },
  {
   "cell_type": "code",
   "execution_count": 343,
   "id": "33eeb6c3",
   "metadata": {},
   "outputs": [
    {
     "data": {
      "text/html": [
       "<div>\n",
       "<style scoped>\n",
       "    .dataframe tbody tr th:only-of-type {\n",
       "        vertical-align: middle;\n",
       "    }\n",
       "\n",
       "    .dataframe tbody tr th {\n",
       "        vertical-align: top;\n",
       "    }\n",
       "\n",
       "    .dataframe thead th {\n",
       "        text-align: right;\n",
       "    }\n",
       "</style>\n",
       "<table border=\"1\" class=\"dataframe\">\n",
       "  <thead>\n",
       "    <tr style=\"text-align: right;\">\n",
       "      <th></th>\n",
       "      <th>Meta</th>\n",
       "      <th>AMZN</th>\n",
       "    </tr>\n",
       "  </thead>\n",
       "  <tbody>\n",
       "    <tr>\n",
       "      <th>inflation</th>\n",
       "      <td>-71.95%</td>\n",
       "      <td>-37.62%</td>\n",
       "    </tr>\n",
       "  </tbody>\n",
       "</table>\n",
       "</div>"
      ],
      "text/plain": [
       "              Meta     AMZN\n",
       "inflation  -71.95%  -37.62%"
      ]
     },
     "execution_count": 343,
     "metadata": {},
     "output_type": "execute_result"
    }
   ],
   "source": [
    "model.total_inflation()"
   ]
  },
  {
   "cell_type": "code",
   "execution_count": 338,
   "id": "cea085bd",
   "metadata": {},
   "outputs": [
    {
     "data": {
      "text/plain": [
       "Date\n",
       "2022-01-03    0.0007\n",
       "2022-01-04   -0.0101\n",
       "2022-01-05   -0.0266\n",
       "2022-01-06    0.0299\n",
       "2022-01-07   -0.0029\n",
       "               ...  \n",
       "2022-04-04    0.0350\n",
       "2022-04-05   -0.0096\n",
       "2022-04-06   -0.0159\n",
       "2022-04-07   -0.0044\n",
       "2022-04-08   -0.0002\n",
       "Name: close-open, Length: 68, dtype: float64"
      ]
     },
     "execution_count": 338,
     "metadata": {},
     "output_type": "execute_result"
    }
   ],
   "source": [
    "model.df[\"Meta\"].loc[model.df[\"Meta\"].index.isin(date_range),:][\"close-open\"]"
   ]
  },
  {
   "cell_type": "code",
   "execution_count": 177,
   "id": "1a0fe92d",
   "metadata": {
    "collapsed": true
   },
   "outputs": [
    {
     "data": {
      "text/plain": [
       "Index(['High', 'Low', 'Open', 'Close', 'Volume', 'Adj Close'], dtype='object')"
      ]
     },
     "execution_count": 177,
     "metadata": {},
     "output_type": "execute_result"
    }
   ],
   "source": [
    "model.df[\"AMZN\"].columns"
   ]
  },
  {
   "cell_type": "code",
   "execution_count": 143,
   "id": "6a8a2c7c",
   "metadata": {
    "collapsed": true
   },
   "outputs": [
    {
     "data": {
      "text/html": [
       "<div>\n",
       "<style scoped>\n",
       "    .dataframe tbody tr th:only-of-type {\n",
       "        vertical-align: middle;\n",
       "    }\n",
       "\n",
       "    .dataframe tbody tr th {\n",
       "        vertical-align: top;\n",
       "    }\n",
       "\n",
       "    .dataframe thead th {\n",
       "        text-align: right;\n",
       "    }\n",
       "</style>\n",
       "<table border=\"1\" class=\"dataframe\">\n",
       "  <thead>\n",
       "    <tr style=\"text-align: right;\">\n",
       "      <th></th>\n",
       "      <th>Meta</th>\n",
       "    </tr>\n",
       "  </thead>\n",
       "  <tbody>\n",
       "    <tr>\n",
       "      <th>inflation</th>\n",
       "      <td>-72.25%</td>\n",
       "    </tr>\n",
       "  </tbody>\n",
       "</table>\n",
       "</div>"
      ],
      "text/plain": [
       "              Meta\n",
       "inflation  -72.25%"
      ]
     },
     "execution_count": 143,
     "metadata": {},
     "output_type": "execute_result"
    }
   ],
   "source": [
    "model.total_inflation()#method = \"high-low\")"
   ]
  },
  {
   "cell_type": "code",
   "execution_count": 269,
   "id": "6d5cae96",
   "metadata": {
    "collapsed": true
   },
   "outputs": [
    {
     "data": {
      "text/plain": [
       "True"
      ]
     },
     "execution_count": 269,
     "metadata": {},
     "output_type": "execute_result"
    }
   ],
   "source": [
    "#pd.Timestamp(\"2020-09-28\", tz = \"UTC\") in  nyse.valid_days(\"2020-01-01\", pd.Timestamp(\"2020-10-10\"))\n",
    "s = pd.Timestamp(\"2020-09-28\")\n",
    "s.tz_localize(\"UTC\") in nyse.valid_days(\"2020-01-01\", pd.Timestamp(\"2020-10-10\"))"
   ]
  },
  {
   "cell_type": "code",
   "execution_count": 54,
   "id": "1119f06e",
   "metadata": {
    "collapsed": true
   },
   "outputs": [
    {
     "data": {
      "text/plain": [
       "Timestamp('2017-01-03 00:00:00+0000', tz='UTC')"
      ]
     },
     "execution_count": 54,
     "metadata": {},
     "output_type": "execute_result"
    }
   ],
   "source": [
    "#StockData.last_open_day(\"2017-01-08\")\n",
    "StockData.next_open_day(\"2017-01-01\")"
   ]
  },
  {
   "cell_type": "code",
   "execution_count": 272,
   "id": "b364a489",
   "metadata": {
    "collapsed": true
   },
   "outputs": [
    {
     "data": {
      "text/plain": [
       "DatetimeIndex(['2016-12-20 00:00:00+00:00', '2016-12-21 00:00:00+00:00',\n",
       "               '2016-12-22 00:00:00+00:00', '2016-12-23 00:00:00+00:00',\n",
       "               '2016-12-27 00:00:00+00:00', '2016-12-28 00:00:00+00:00',\n",
       "               '2016-12-29 00:00:00+00:00', '2016-12-30 00:00:00+00:00',\n",
       "               '2017-01-03 00:00:00+00:00', '2017-01-04 00:00:00+00:00',\n",
       "               '2017-01-05 00:00:00+00:00', '2017-01-06 00:00:00+00:00',\n",
       "               '2017-01-09 00:00:00+00:00', '2017-01-10 00:00:00+00:00'],\n",
       "              dtype='datetime64[ns, UTC]', freq=None)"
      ]
     },
     "execution_count": 272,
     "metadata": {},
     "output_type": "execute_result"
    }
   ],
   "source": [
    "df1 = nyse.valid_days(pd.Timestamp(\"2016-12-20\"), \"2017-01-10\")\n",
    "df1"
   ]
  },
  {
   "cell_type": "code",
   "execution_count": 293,
   "id": "0599afb0",
   "metadata": {},
   "outputs": [
    {
     "data": {
      "text/plain": [
       "(1.0, '100.0%')"
      ]
     },
     "execution_count": 293,
     "metadata": {},
     "output_type": "execute_result"
    }
   ],
   "source": [
    "StockData.diff(1,2)"
   ]
  },
  {
   "cell_type": "code",
   "execution_count": 307,
   "id": "86ca3006",
   "metadata": {},
   "outputs": [],
   "source": [
    "date_range = pd.date_range(\"2022-01-01\", \"2022-04-08\")"
   ]
  },
  {
   "cell_type": "code",
   "execution_count": 182,
   "id": "7aea48a7",
   "metadata": {
    "collapsed": true
   },
   "outputs": [],
   "source": [
    "df = data.DataReader(\"AMZN\", 'yahoo', \"2017-01-01\", \"2022-10-20\")"
   ]
  },
  {
   "cell_type": "code",
   "execution_count": 296,
   "id": "3836fa5d",
   "metadata": {},
   "outputs": [],
   "source": [
    "df[\"close-open\"] = [StockData.diff(x,y)[0] for x,y in zip(df[\"Close\"], df[\"Open\"])]"
   ]
  },
  {
   "cell_type": "code",
   "execution_count": 319,
   "id": "613d3f9e",
   "metadata": {},
   "outputs": [],
   "source": [
    "s = pd.DataFrame().append(df.loc[df.index.isin(date_range),:][\"close-open\"], ignore_index = True)"
   ]
  },
  {
   "cell_type": "code",
   "execution_count": 325,
   "id": "9d5f8655",
   "metadata": {},
   "outputs": [],
   "source": [
    "t1 = pd.DataFrame()\n",
    "t2 = df.loc[df.index.isin(date_range),:][\"close-open\"]"
   ]
  },
  {
   "cell_type": "code",
   "execution_count": 326,
   "id": "2a62a862",
   "metadata": {},
   "outputs": [],
   "source": [
    "t1[\"A\"] = t2"
   ]
  },
  {
   "cell_type": "code",
   "execution_count": 328,
   "id": "824e8d1d",
   "metadata": {},
   "outputs": [
    {
     "data": {
      "text/plain": [
       "Index(['A'], dtype='object')"
      ]
     },
     "execution_count": 328,
     "metadata": {},
     "output_type": "execute_result"
    }
   ],
   "source": []
  },
  {
   "cell_type": "code",
   "execution_count": null,
   "id": "7342abef",
   "metadata": {},
   "outputs": [],
   "source": []
  },
  {
   "cell_type": "code",
   "execution_count": 72,
   "id": "ac0bf175",
   "metadata": {
    "collapsed": true
   },
   "outputs": [],
   "source": [
    "friday = pd.Timestamp('2017-01-05')"
   ]
  },
  {
   "cell_type": "code",
   "execution_count": 111,
   "id": "227cf5e6",
   "metadata": {
    "collapsed": true
   },
   "outputs": [
    {
     "data": {
      "text/plain": [
       "3"
      ]
     },
     "execution_count": 111,
     "metadata": {},
     "output_type": "execute_result"
    }
   ],
   "source": [
    "friday.weekday()"
   ]
  },
  {
   "cell_type": "code",
   "execution_count": 5,
   "id": "6aa6237d",
   "metadata": {
    "collapsed": true
   },
   "outputs": [],
   "source": [
    "nyse = mcal.get_calendar('NYSE')"
   ]
  },
  {
   "cell_type": "code",
   "execution_count": 282,
   "id": "482b10f8",
   "metadata": {},
   "outputs": [],
   "source": [
    "df1 = nyse.valid_days(start_date = \"2017-01-01\", end_date = \"2017-01-10\")"
   ]
  },
  {
   "cell_type": "code",
   "execution_count": 283,
   "id": "d9560862",
   "metadata": {},
   "outputs": [
    {
     "data": {
      "text/plain": [
       "DatetimeIndex(['2017-01-03 00:00:00+00:00', '2017-01-04 00:00:00+00:00',\n",
       "               '2017-01-05 00:00:00+00:00', '2017-01-06 00:00:00+00:00',\n",
       "               '2017-01-09 00:00:00+00:00', '2017-01-10 00:00:00+00:00'],\n",
       "              dtype='datetime64[ns, UTC]', freq=None)"
      ]
     },
     "execution_count": 283,
     "metadata": {},
     "output_type": "execute_result"
    }
   ],
   "source": [
    "now = pd.Timestamp(\"2017-01-02\", tz = \"UTC\")\n",
    "df1"
   ]
  },
  {
   "cell_type": "code",
   "execution_count": 26,
   "id": "f1801293",
   "metadata": {
    "collapsed": true
   },
   "outputs": [
    {
     "data": {
      "text/plain": [
       "Timestamp('2017-01-03 00:00:00+0000', tz='UTC')"
      ]
     },
     "execution_count": 26,
     "metadata": {},
     "output_type": "execute_result"
    }
   ],
   "source": [
    "now + dt.timedelta(days = 1)"
   ]
  },
  {
   "cell_type": "code",
   "execution_count": 115,
   "id": "d1acb219",
   "metadata": {
    "collapsed": true
   },
   "outputs": [],
   "source": [
    "s = {'MSFT': '271.28%', 'AMZN': '170.23%', 'AAPL': '425.2%'}"
   ]
  },
  {
   "cell_type": "code",
   "execution_count": 146,
   "id": "d9a78628",
   "metadata": {
    "collapsed": true
   },
   "outputs": [
    {
     "data": {
      "text/plain": [
       "Timestamp('2022-11-01 00:00:00')"
      ]
     },
     "execution_count": 146,
     "metadata": {},
     "output_type": "execute_result"
    }
   ],
   "source": [
    "model.end_ts"
   ]
  },
  {
   "cell_type": "code",
   "execution_count": 184,
   "id": "7c25f7c2",
   "metadata": {
    "collapsed": true
   },
   "outputs": [],
   "source": [
    "df_temp = df.iloc[df.index.isin(pd.date_range(start = model.start_ts, end = model.end_ts)),:]"
   ]
  },
  {
   "cell_type": "code",
   "execution_count": 345,
   "id": "17fb2303",
   "metadata": {},
   "outputs": [
    {
     "data": {
      "image/png": "[encoded data removed]",
      "text/plain": [
       "<Figure size 640x480 with 1 Axes>"
      ]
     },
     "metadata": {},
     "output_type": "display_data"
    }
   ],
   "source": [
    "sns.set()\n",
    "df_temp[[\"Open\", \"Close\"]].plot(label = [\"Open\", \"Close\"])\n",
    "#plt.legend()\n",
    "plt.show()"
   ]
  },
  {
   "cell_type": "code",
   "execution_count": 165,
   "id": "1afd12ff",
   "metadata": {
    "collapsed": true
   },
   "outputs": [],
   "source": [
    "df_temp.columns = [x[0] for x in df_temp.columns]"
   ]
  },
  {
   "cell_type": "code",
   "execution_count": null,
   "id": "c36c4897",
   "metadata": {
    "collapsed": true
   },
   "outputs": [],
   "source": []
  },
  {
   "cell_type": "code",
   "execution_count": null,
   "id": "8674173d",
   "metadata": {
    "collapsed": true
   },
   "outputs": [],
   "source": []
  },
  {
   "cell_type": "code",
   "execution_count": 134,
   "id": "faebc566",
   "metadata": {
    "collapsed": true
   },
   "outputs": [
    {
     "data": {
      "text/plain": [
       "DatetimeIndex(['2021-12-31', '2022-01-01', '2022-01-02'], dtype='datetime64[ns]', freq='D')"
      ]
     },
     "execution_count": 134,
     "metadata": {},
     "output_type": "execute_result"
    }
   ],
   "source": [
    "pd.date_range(start = model.start_ts, periods = 3)"
   ]
  },
  {
   "cell_type": "code",
   "execution_count": 138,
   "id": "23bac4cd",
   "metadata": {
    "collapsed": true
   },
   "outputs": [
    {
     "data": {
      "text/html": [
       "<div>\n",
       "<style scoped>\n",
       "    .dataframe tbody tr th:only-of-type {\n",
       "        vertical-align: middle;\n",
       "    }\n",
       "\n",
       "    .dataframe tbody tr th {\n",
       "        vertical-align: top;\n",
       "    }\n",
       "\n",
       "    .dataframe thead tr th {\n",
       "        text-align: left;\n",
       "    }\n",
       "\n",
       "    .dataframe thead tr:last-of-type th {\n",
       "        text-align: right;\n",
       "    }\n",
       "</style>\n",
       "<table border=\"1\" class=\"dataframe\">\n",
       "  <thead>\n",
       "    <tr>\n",
       "      <th>Attributes</th>\n",
       "      <th>Adj Close</th>\n",
       "      <th>Close</th>\n",
       "      <th>High</th>\n",
       "      <th>Low</th>\n",
       "      <th>Open</th>\n",
       "      <th>Volume</th>\n",
       "    </tr>\n",
       "    <tr>\n",
       "      <th>Symbols</th>\n",
       "      <th>MSFT</th>\n",
       "      <th>MSFT</th>\n",
       "      <th>MSFT</th>\n",
       "      <th>MSFT</th>\n",
       "      <th>MSFT</th>\n",
       "      <th>MSFT</th>\n",
       "    </tr>\n",
       "    <tr>\n",
       "      <th>Date</th>\n",
       "      <th></th>\n",
       "      <th></th>\n",
       "      <th></th>\n",
       "      <th></th>\n",
       "      <th></th>\n",
       "      <th></th>\n",
       "    </tr>\n",
       "  </thead>\n",
       "  <tbody>\n",
       "    <tr>\n",
       "      <th>2021-12-31</th>\n",
       "      <td>334.136902</td>\n",
       "      <td>336.320007</td>\n",
       "      <td>339.359985</td>\n",
       "      <td>335.850006</td>\n",
       "      <td>338.510010</td>\n",
       "      <td>18000800.0</td>\n",
       "    </tr>\n",
       "    <tr>\n",
       "      <th>2022-01-03</th>\n",
       "      <td>332.577057</td>\n",
       "      <td>334.750000</td>\n",
       "      <td>338.000000</td>\n",
       "      <td>329.779999</td>\n",
       "      <td>335.350006</td>\n",
       "      <td>28865100.0</td>\n",
       "    </tr>\n",
       "    <tr>\n",
       "      <th>2022-01-04</th>\n",
       "      <td>326.874359</td>\n",
       "      <td>329.010010</td>\n",
       "      <td>335.200012</td>\n",
       "      <td>326.119995</td>\n",
       "      <td>334.829987</td>\n",
       "      <td>32674300.0</td>\n",
       "    </tr>\n",
       "    <tr>\n",
       "      <th>2022-01-05</th>\n",
       "      <td>314.326324</td>\n",
       "      <td>316.380005</td>\n",
       "      <td>326.070007</td>\n",
       "      <td>315.980011</td>\n",
       "      <td>325.859985</td>\n",
       "      <td>40054300.0</td>\n",
       "    </tr>\n",
       "    <tr>\n",
       "      <th>2022-01-06</th>\n",
       "      <td>311.842529</td>\n",
       "      <td>313.880005</td>\n",
       "      <td>318.700012</td>\n",
       "      <td>311.489990</td>\n",
       "      <td>313.149994</td>\n",
       "      <td>39646100.0</td>\n",
       "    </tr>\n",
       "    <tr>\n",
       "      <th>...</th>\n",
       "      <td>...</td>\n",
       "      <td>...</td>\n",
       "      <td>...</td>\n",
       "      <td>...</td>\n",
       "      <td>...</td>\n",
       "      <td>...</td>\n",
       "    </tr>\n",
       "    <tr>\n",
       "      <th>2022-10-24</th>\n",
       "      <td>247.250000</td>\n",
       "      <td>247.250000</td>\n",
       "      <td>247.839996</td>\n",
       "      <td>241.300003</td>\n",
       "      <td>243.759995</td>\n",
       "      <td>24911200.0</td>\n",
       "    </tr>\n",
       "    <tr>\n",
       "      <th>2022-10-25</th>\n",
       "      <td>250.660004</td>\n",
       "      <td>250.660004</td>\n",
       "      <td>251.039993</td>\n",
       "      <td>245.830002</td>\n",
       "      <td>247.259995</td>\n",
       "      <td>34775500.0</td>\n",
       "    </tr>\n",
       "    <tr>\n",
       "      <th>2022-10-26</th>\n",
       "      <td>231.320007</td>\n",
       "      <td>231.320007</td>\n",
       "      <td>238.300003</td>\n",
       "      <td>230.059998</td>\n",
       "      <td>231.169998</td>\n",
       "      <td>82543200.0</td>\n",
       "    </tr>\n",
       "    <tr>\n",
       "      <th>2022-10-27</th>\n",
       "      <td>226.750000</td>\n",
       "      <td>226.750000</td>\n",
       "      <td>233.690002</td>\n",
       "      <td>225.779999</td>\n",
       "      <td>231.039993</td>\n",
       "      <td>40424600.0</td>\n",
       "    </tr>\n",
       "    <tr>\n",
       "      <th>2022-10-28</th>\n",
       "      <td>235.869995</td>\n",
       "      <td>235.869995</td>\n",
       "      <td>236.600006</td>\n",
       "      <td>226.050003</td>\n",
       "      <td>226.240005</td>\n",
       "      <td>40647700.0</td>\n",
       "    </tr>\n",
       "  </tbody>\n",
       "</table>\n",
       "<p>209 rows × 6 columns</p>\n",
       "</div>"
      ],
      "text/plain": [
       "Attributes   Adj Close       Close        High         Low        Open  \\\n",
       "Symbols           MSFT        MSFT        MSFT        MSFT        MSFT   \n",
       "Date                                                                     \n",
       "2021-12-31  334.136902  336.320007  339.359985  335.850006  338.510010   \n",
       "2022-01-03  332.577057  334.750000  338.000000  329.779999  335.350006   \n",
       "2022-01-04  326.874359  329.010010  335.200012  326.119995  334.829987   \n",
       "2022-01-05  314.326324  316.380005  326.070007  315.980011  325.859985   \n",
       "2022-01-06  311.842529  313.880005  318.700012  311.489990  313.149994   \n",
       "...                ...         ...         ...         ...         ...   \n",
       "2022-10-24  247.250000  247.250000  247.839996  241.300003  243.759995   \n",
       "2022-10-25  250.660004  250.660004  251.039993  245.830002  247.259995   \n",
       "2022-10-26  231.320007  231.320007  238.300003  230.059998  231.169998   \n",
       "2022-10-27  226.750000  226.750000  233.690002  225.779999  231.039993   \n",
       "2022-10-28  235.869995  235.869995  236.600006  226.050003  226.240005   \n",
       "\n",
       "Attributes      Volume  \n",
       "Symbols           MSFT  \n",
       "Date                    \n",
       "2021-12-31  18000800.0  \n",
       "2022-01-03  28865100.0  \n",
       "2022-01-04  32674300.0  \n",
       "2022-01-05  40054300.0  \n",
       "2022-01-06  39646100.0  \n",
       "...                ...  \n",
       "2022-10-24  24911200.0  \n",
       "2022-10-25  34775500.0  \n",
       "2022-10-26  82543200.0  \n",
       "2022-10-27  40424600.0  \n",
       "2022-10-28  40647700.0  \n",
       "\n",
       "[209 rows x 6 columns]"
      ]
     },
     "execution_count": 138,
     "metadata": {},
     "output_type": "execute_result"
    }
   ],
   "source": [
    "data.DataReader([\"MSFT\"], \"yahoo\", model.start_ts, \"2022-10-30\")"
   ]
  },
  {
   "cell_type": "code",
   "execution_count": null,
   "id": "4db3f3fc",
   "metadata": {
    "collapsed": true
   },
   "outputs": [],
   "source": []
  },
  {
   "cell_type": "code",
   "execution_count": 51,
   "id": "9fbbbc44",
   "metadata": {},
   "outputs": [
    {
     "data": {
      "text/plain": [
       "1267650600228229401496703205376"
      ]
     },
     "execution_count": 51,
     "metadata": {},
     "output_type": "execute_result"
    }
   ],
   "source": [
    "pow(2,100)"
   ]
  },
  {
   "cell_type": "code",
   "execution_count": 15,
   "id": "0f87248c",
   "metadata": {},
   "outputs": [
    {
     "data": {
      "text/plain": [
       "Timestamp('2022-01-13 00:00:00')"
      ]
     },
     "execution_count": 15,
     "metadata": {},
     "output_type": "execute_result"
    }
   ],
   "source": [
    "start = \"2022-01-01\"\n",
    "end = \"2022-01-10\"\n",
    "pd.Timestamp(end) + pd.Timedelta(days = 3)"
   ]
  },
  {
   "cell_type": "code",
   "execution_count": 53,
   "id": "dcb812fc",
   "metadata": {},
   "outputs": [
    {
     "data": {
      "text/plain": [
       "int"
      ]
     },
     "execution_count": 53,
     "metadata": {},
     "output_type": "execute_result"
    }
   ],
   "source": [
    "type(a)"
   ]
  }
 ],
 "metadata": {
  "kernelspec": {
   "display_name": "Python 3 (ipykernel)",
   "language": "python",
   "name": "python3"
  },
  "language_info": {
   "codemirror_mode": {
    "name": "ipython",
    "version": 3
   },
   "file_extension": ".py",
   "mimetype": "text/x-python",
   "name": "python",
   "nbconvert_exporter": "python",
   "pygments_lexer": "ipython3",
   "version": "3.7.13"
  }
 },
 "nbformat": 4,
 "nbformat_minor": 5
}
